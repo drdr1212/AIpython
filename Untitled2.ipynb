{
  "nbformat": 4,
  "nbformat_minor": 0,
  "metadata": {
    "colab": {
      "provenance": [],
      "toc_visible": true
    },
    "kernelspec": {
      "name": "python3",
      "display_name": "Python 3"
    },
    "language_info": {
      "name": "python"
    }
  },
  "cells": [
    {
      "cell_type": "code",
      "execution_count": 4,
      "metadata": {
        "id": "yUE-d7YsS_NE",
        "colab": {
          "base_uri": "https://localhost:8080/"
        },
        "outputId": "aba1cad8-ed26-498d-e465-60632850e8eb"
      },
      "outputs": [
        {
          "output_type": "stream",
          "name": "stdout",
          "text": [
            "섭씨 온도:25\n",
            "화씨 온도 77.0\n"
          ]
        }
      ],
      "source": [
        "celsius=int(input('섭씨 온도:'))\n",
        "F=celsius*9/5+32\n",
        "print('화씨 온도',F)"
      ]
    },
    {
      "cell_type": "code",
      "source": [
        "# 성적 리스트\n",
        "성적 = [85, 92, 78, 90, 87]\n",
        "\n",
        "# 총합을 저장할 변수\n",
        "총합 = 0\n",
        "\n",
        "# 반복문을 이용해서 총합 계산\n",
        "for 점수 in 성적:\n",
        "    총합 += 점수\n",
        "\n",
        "# 평균 계산\n",
        "평균 = 총합 / len(성적)\n",
        "\n",
        "# 결과 출력\n",
        "print(f\"평균 성적은 {평균:.1f}점입니다.\")\n"
      ],
      "metadata": {
        "colab": {
          "base_uri": "https://localhost:8080/"
        },
        "id": "HRai0NqsXYzR",
        "outputId": "f5fc5587-f2a4-4f0c-ecda-5ce0014a2d89"
      },
      "execution_count": 5,
      "outputs": [
        {
          "output_type": "stream",
          "name": "stdout",
          "text": [
            "평균 성적은 86.4점입니다.\n"
          ]
        }
      ]
    }
  ]
}