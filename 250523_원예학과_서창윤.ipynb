{
  "nbformat": 4,
  "nbformat_minor": 0,
  "metadata": {
    "colab": {
      "provenance": [],
      "authorship_tag": "ABX9TyPDSCl0Nf2c3W/23BK0c4jv",
      "include_colab_link": true
    },
    "kernelspec": {
      "name": "python3",
      "display_name": "Python 3"
    },
    "language_info": {
      "name": "python"
    }
  },
  "cells": [
    {
      "cell_type": "markdown",
      "metadata": {
        "id": "view-in-github",
        "colab_type": "text"
      },
      "source": [
        "<a href=\"https://colab.research.google.com/github/drdr1212/AIpython/blob/master/250523_%EC%9B%90%EC%98%88%ED%95%99%EA%B3%BC_%EC%84%9C%EC%B0%BD%EC%9C%A4.ipynb\" target=\"_parent\"><img src=\"https://colab.research.google.com/assets/colab-badge.svg\" alt=\"Open In Colab\"/></a>"
      ]
    },
    {
      "cell_type": "code",
      "execution_count": null,
      "metadata": {
        "id": "aX4DUKIf1DVd"
      },
      "outputs": [],
      "source": []
    },
    {
      "source": [
        "# Import the pandas library\n",
        "import pandas\n",
        "\n",
        "# List files in the sample_data directory to identify the correct CSV file name\n",
        "!ls /content/sample_data\n",
        "\n",
        "# Replace 'your_csv_file_name.csv' with the actual name of the CSV file from the !ls output\n",
        "file_path = '/content/sample_data/your_csv_file_name.csv' # <--- Change this to the actual filename\n",
        "\n",
        "df = pandas.read_csv(file_path)"
      ],
      "cell_type": "code",
      "metadata": {
        "colab": {
          "base_uri": "https://localhost:8080/",
          "height": 447
        },
        "id": "xKYjo4sJBn9K",
        "outputId": "02f3b4e0-322e-492d-8033-7a9848b9426d"
      },
      "execution_count": 3,
      "outputs": [
        {
          "output_type": "stream",
          "name": "stdout",
          "text": [
            "anscombe.json\t\t      mnist_test.csv\n",
            "california_housing_test.csv   mnist_train_small.csv\n",
            "california_housing_train.csv  README.md\n"
          ]
        },
        {
          "output_type": "error",
          "ename": "FileNotFoundError",
          "evalue": "[Errno 2] No such file or directory: '/content/sample_data/your_csv_file_name.csv'",
          "traceback": [
            "\u001b[0;31m---------------------------------------------------------------------------\u001b[0m",
            "\u001b[0;31mFileNotFoundError\u001b[0m                         Traceback (most recent call last)",
            "\u001b[0;32m<ipython-input-3-ad9736245fdc>\u001b[0m in \u001b[0;36m<cell line: 0>\u001b[0;34m()\u001b[0m\n\u001b[1;32m      8\u001b[0m \u001b[0mfile_path\u001b[0m \u001b[0;34m=\u001b[0m \u001b[0;34m'/content/sample_data/your_csv_file_name.csv'\u001b[0m \u001b[0;31m# <--- Change this to the actual filename\u001b[0m\u001b[0;34m\u001b[0m\u001b[0;34m\u001b[0m\u001b[0m\n\u001b[1;32m      9\u001b[0m \u001b[0;34m\u001b[0m\u001b[0m\n\u001b[0;32m---> 10\u001b[0;31m \u001b[0mdf\u001b[0m \u001b[0;34m=\u001b[0m \u001b[0mpandas\u001b[0m\u001b[0;34m.\u001b[0m\u001b[0mread_csv\u001b[0m\u001b[0;34m(\u001b[0m\u001b[0mfile_path\u001b[0m\u001b[0;34m)\u001b[0m\u001b[0;34m\u001b[0m\u001b[0;34m\u001b[0m\u001b[0m\n\u001b[0m",
            "\u001b[0;32m/usr/local/lib/python3.11/dist-packages/pandas/io/parsers/readers.py\u001b[0m in \u001b[0;36mread_csv\u001b[0;34m(filepath_or_buffer, sep, delimiter, header, names, index_col, usecols, dtype, engine, converters, true_values, false_values, skipinitialspace, skiprows, skipfooter, nrows, na_values, keep_default_na, na_filter, verbose, skip_blank_lines, parse_dates, infer_datetime_format, keep_date_col, date_parser, date_format, dayfirst, cache_dates, iterator, chunksize, compression, thousands, decimal, lineterminator, quotechar, quoting, doublequote, escapechar, comment, encoding, encoding_errors, dialect, on_bad_lines, delim_whitespace, low_memory, memory_map, float_precision, storage_options, dtype_backend)\u001b[0m\n\u001b[1;32m   1024\u001b[0m     \u001b[0mkwds\u001b[0m\u001b[0;34m.\u001b[0m\u001b[0mupdate\u001b[0m\u001b[0;34m(\u001b[0m\u001b[0mkwds_defaults\u001b[0m\u001b[0;34m)\u001b[0m\u001b[0;34m\u001b[0m\u001b[0;34m\u001b[0m\u001b[0m\n\u001b[1;32m   1025\u001b[0m \u001b[0;34m\u001b[0m\u001b[0m\n\u001b[0;32m-> 1026\u001b[0;31m     \u001b[0;32mreturn\u001b[0m \u001b[0m_read\u001b[0m\u001b[0;34m(\u001b[0m\u001b[0mfilepath_or_buffer\u001b[0m\u001b[0;34m,\u001b[0m \u001b[0mkwds\u001b[0m\u001b[0;34m)\u001b[0m\u001b[0;34m\u001b[0m\u001b[0;34m\u001b[0m\u001b[0m\n\u001b[0m\u001b[1;32m   1027\u001b[0m \u001b[0;34m\u001b[0m\u001b[0m\n\u001b[1;32m   1028\u001b[0m \u001b[0;34m\u001b[0m\u001b[0m\n",
            "\u001b[0;32m/usr/local/lib/python3.11/dist-packages/pandas/io/parsers/readers.py\u001b[0m in \u001b[0;36m_read\u001b[0;34m(filepath_or_buffer, kwds)\u001b[0m\n\u001b[1;32m    618\u001b[0m \u001b[0;34m\u001b[0m\u001b[0m\n\u001b[1;32m    619\u001b[0m     \u001b[0;31m# Create the parser.\u001b[0m\u001b[0;34m\u001b[0m\u001b[0;34m\u001b[0m\u001b[0m\n\u001b[0;32m--> 620\u001b[0;31m     \u001b[0mparser\u001b[0m \u001b[0;34m=\u001b[0m \u001b[0mTextFileReader\u001b[0m\u001b[0;34m(\u001b[0m\u001b[0mfilepath_or_buffer\u001b[0m\u001b[0;34m,\u001b[0m \u001b[0;34m**\u001b[0m\u001b[0mkwds\u001b[0m\u001b[0;34m)\u001b[0m\u001b[0;34m\u001b[0m\u001b[0;34m\u001b[0m\u001b[0m\n\u001b[0m\u001b[1;32m    621\u001b[0m \u001b[0;34m\u001b[0m\u001b[0m\n\u001b[1;32m    622\u001b[0m     \u001b[0;32mif\u001b[0m \u001b[0mchunksize\u001b[0m \u001b[0;32mor\u001b[0m \u001b[0miterator\u001b[0m\u001b[0;34m:\u001b[0m\u001b[0;34m\u001b[0m\u001b[0;34m\u001b[0m\u001b[0m\n",
            "\u001b[0;32m/usr/local/lib/python3.11/dist-packages/pandas/io/parsers/readers.py\u001b[0m in \u001b[0;36m__init__\u001b[0;34m(self, f, engine, **kwds)\u001b[0m\n\u001b[1;32m   1618\u001b[0m \u001b[0;34m\u001b[0m\u001b[0m\n\u001b[1;32m   1619\u001b[0m         \u001b[0mself\u001b[0m\u001b[0;34m.\u001b[0m\u001b[0mhandles\u001b[0m\u001b[0;34m:\u001b[0m \u001b[0mIOHandles\u001b[0m \u001b[0;34m|\u001b[0m \u001b[0;32mNone\u001b[0m \u001b[0;34m=\u001b[0m \u001b[0;32mNone\u001b[0m\u001b[0;34m\u001b[0m\u001b[0;34m\u001b[0m\u001b[0m\n\u001b[0;32m-> 1620\u001b[0;31m         \u001b[0mself\u001b[0m\u001b[0;34m.\u001b[0m\u001b[0m_engine\u001b[0m \u001b[0;34m=\u001b[0m \u001b[0mself\u001b[0m\u001b[0;34m.\u001b[0m\u001b[0m_make_engine\u001b[0m\u001b[0;34m(\u001b[0m\u001b[0mf\u001b[0m\u001b[0;34m,\u001b[0m \u001b[0mself\u001b[0m\u001b[0;34m.\u001b[0m\u001b[0mengine\u001b[0m\u001b[0;34m)\u001b[0m\u001b[0;34m\u001b[0m\u001b[0;34m\u001b[0m\u001b[0m\n\u001b[0m\u001b[1;32m   1621\u001b[0m \u001b[0;34m\u001b[0m\u001b[0m\n\u001b[1;32m   1622\u001b[0m     \u001b[0;32mdef\u001b[0m \u001b[0mclose\u001b[0m\u001b[0;34m(\u001b[0m\u001b[0mself\u001b[0m\u001b[0;34m)\u001b[0m \u001b[0;34m->\u001b[0m \u001b[0;32mNone\u001b[0m\u001b[0;34m:\u001b[0m\u001b[0;34m\u001b[0m\u001b[0;34m\u001b[0m\u001b[0m\n",
            "\u001b[0;32m/usr/local/lib/python3.11/dist-packages/pandas/io/parsers/readers.py\u001b[0m in \u001b[0;36m_make_engine\u001b[0;34m(self, f, engine)\u001b[0m\n\u001b[1;32m   1878\u001b[0m                 \u001b[0;32mif\u001b[0m \u001b[0;34m\"b\"\u001b[0m \u001b[0;32mnot\u001b[0m \u001b[0;32min\u001b[0m \u001b[0mmode\u001b[0m\u001b[0;34m:\u001b[0m\u001b[0;34m\u001b[0m\u001b[0;34m\u001b[0m\u001b[0m\n\u001b[1;32m   1879\u001b[0m                     \u001b[0mmode\u001b[0m \u001b[0;34m+=\u001b[0m \u001b[0;34m\"b\"\u001b[0m\u001b[0;34m\u001b[0m\u001b[0;34m\u001b[0m\u001b[0m\n\u001b[0;32m-> 1880\u001b[0;31m             self.handles = get_handle(\n\u001b[0m\u001b[1;32m   1881\u001b[0m                 \u001b[0mf\u001b[0m\u001b[0;34m,\u001b[0m\u001b[0;34m\u001b[0m\u001b[0;34m\u001b[0m\u001b[0m\n\u001b[1;32m   1882\u001b[0m                 \u001b[0mmode\u001b[0m\u001b[0;34m,\u001b[0m\u001b[0;34m\u001b[0m\u001b[0;34m\u001b[0m\u001b[0m\n",
            "\u001b[0;32m/usr/local/lib/python3.11/dist-packages/pandas/io/common.py\u001b[0m in \u001b[0;36mget_handle\u001b[0;34m(path_or_buf, mode, encoding, compression, memory_map, is_text, errors, storage_options)\u001b[0m\n\u001b[1;32m    871\u001b[0m         \u001b[0;32mif\u001b[0m \u001b[0mioargs\u001b[0m\u001b[0;34m.\u001b[0m\u001b[0mencoding\u001b[0m \u001b[0;32mand\u001b[0m \u001b[0;34m\"b\"\u001b[0m \u001b[0;32mnot\u001b[0m \u001b[0;32min\u001b[0m \u001b[0mioargs\u001b[0m\u001b[0;34m.\u001b[0m\u001b[0mmode\u001b[0m\u001b[0;34m:\u001b[0m\u001b[0;34m\u001b[0m\u001b[0;34m\u001b[0m\u001b[0m\n\u001b[1;32m    872\u001b[0m             \u001b[0;31m# Encoding\u001b[0m\u001b[0;34m\u001b[0m\u001b[0;34m\u001b[0m\u001b[0m\n\u001b[0;32m--> 873\u001b[0;31m             handle = open(\n\u001b[0m\u001b[1;32m    874\u001b[0m                 \u001b[0mhandle\u001b[0m\u001b[0;34m,\u001b[0m\u001b[0;34m\u001b[0m\u001b[0;34m\u001b[0m\u001b[0m\n\u001b[1;32m    875\u001b[0m                 \u001b[0mioargs\u001b[0m\u001b[0;34m.\u001b[0m\u001b[0mmode\u001b[0m\u001b[0;34m,\u001b[0m\u001b[0;34m\u001b[0m\u001b[0;34m\u001b[0m\u001b[0m\n",
            "\u001b[0;31mFileNotFoundError\u001b[0m: [Errno 2] No such file or directory: '/content/sample_data/your_csv_file_name.csv'"
          ]
        }
      ]
    },
    {
      "source": [
        "# Import the pandas library\n",
        "import pandas\n",
        "\n",
        "# List files in the sample_data directory to identify the correct CSV file name\n",
        "# Look at the output of this command to find the correct CSV filename.\n",
        "!ls /content/sample_data\n",
        "\n",
        "# Replace 'your_csv_file_name.csv' with the actual name of the CSV file from the !ls output\n",
        "# For example, if the output of !ls showed 'california_housing_train.csv',\n",
        "# you would change the line below to:\n",
        "# file_path = '/content/sample_data/california_housing_train.csv'\n",
        "file_path = '/content/sample_data/california_housing_train.csv' # <--- Change this to the actual filename you found\n",
        "\n",
        "df = pandas.read_csv(file_path)"
      ],
      "cell_type": "code",
      "metadata": {
        "colab": {
          "base_uri": "https://localhost:8080/"
        },
        "id": "MGuEqKkFBrVD",
        "outputId": "d48ea78b-794c-4233-878d-76daaa2ed13b"
      },
      "execution_count": 5,
      "outputs": [
        {
          "output_type": "stream",
          "name": "stdout",
          "text": [
            "anscombe.json\t\t      mnist_test.csv\n",
            "california_housing_test.csv   mnist_train_small.csv\n",
            "california_housing_train.csv  README.md\n"
          ]
        }
      ]
    },
    {
      "source": [
        "num_rows = df.shape[0]\n",
        "num_cols = df.shape[1]\n",
        "print(f\"총 붓꽃 데이터 개수: {num_rows}개\")\n",
        "print(f\"총 정보(열) 개수: {num_cols}개\")"
      ],
      "cell_type": "code",
      "metadata": {
        "colab": {
          "base_uri": "https://localhost:8080/"
        },
        "id": "wqWX4lboB3Tb",
        "outputId": "00447375-6c4f-4a47-aee4-5e8dba681a9a"
      },
      "execution_count": 7,
      "outputs": [
        {
          "output_type": "stream",
          "name": "stdout",
          "text": [
            "총 붓꽃 데이터 개수: 17000개\n",
            "총 정보(열) 개수: 9개\n"
          ]
        }
      ]
    },
    {
      "source": [
        "# 각 열의 이름을 확인합니다.\n",
        "column_names = df.columns\n",
        "\n",
        "print(\"각 열의 이름:\")\n",
        "# 각 열 이름을 반복하여 출력합니다.\n",
        "for col_name in column_names:\n",
        "    print(col_name)"
      ],
      "cell_type": "code",
      "metadata": {
        "colab": {
          "base_uri": "https://localhost:8080/"
        },
        "id": "FfsTaNrdB9I6",
        "outputId": "74cc19fe-259d-44d0-fa49-26f2e75ad1ab"
      },
      "execution_count": 8,
      "outputs": [
        {
          "output_type": "stream",
          "name": "stdout",
          "text": [
            "각 열의 이름:\n",
            "longitude\n",
            "latitude\n",
            "housing_median_age\n",
            "total_rooms\n",
            "total_bedrooms\n",
            "population\n",
            "households\n",
            "median_income\n",
            "median_house_value\n"
          ]
        }
      ]
    },
    {
      "source": [
        "# 데이터프레임의 기본 정보 확인\n",
        "# - 각 열의 Non-Null 개수를 통해 비어있는 값(null)이 있는지 확인할 수 있습니다.\n",
        "#   Non-Null 개수가 전체 행 수(df.shape[0])보다 작으면 해당 열에 비어있는 값이 있다는 의미입니다.\n",
        "# - 각 열의 dtype을 통해 숫자로 된 열인지 확인할 수 있습니다. (예: float64, int64 등)\n",
        "print(\"--- 데이터프레임 기본 정보 ---\")\n",
        "df.info()\n",
        "\n",
        "# info() 출력 결과를 보고 숫자로 된 열의 개수를 직접 확인해야 합니다.\n",
        "# 또는 데이터 타입을 기준으로 필터링하여 숫자로 된 열의 개수를 세는 코드를 추가할 수도 있습니다.\n",
        "# 예를 들어, 숫자 타입 열의 개수를 자동 계산하는 코드는 다음과 같습니다.\n",
        "# numeric_cols = df.select_dtypes(include=['number'])\n",
        "# num_numeric_cols = numeric_cols.shape[1]\n",
        "# print(f\"\\n숫자로 된 열 개수: {num_numeric_cols}개\")"
      ],
      "cell_type": "code",
      "metadata": {
        "colab": {
          "base_uri": "https://localhost:8080/"
        },
        "id": "umrHO1E3CBdq",
        "outputId": "038efcf0-9d9d-4572-8413-a36d15824abc"
      },
      "execution_count": 9,
      "outputs": [
        {
          "output_type": "stream",
          "name": "stdout",
          "text": [
            "--- 데이터프레임 기본 정보 ---\n",
            "<class 'pandas.core.frame.DataFrame'>\n",
            "RangeIndex: 17000 entries, 0 to 16999\n",
            "Data columns (total 9 columns):\n",
            " #   Column              Non-Null Count  Dtype  \n",
            "---  ------              --------------  -----  \n",
            " 0   longitude           17000 non-null  float64\n",
            " 1   latitude            17000 non-null  float64\n",
            " 2   housing_median_age  17000 non-null  float64\n",
            " 3   total_rooms         17000 non-null  float64\n",
            " 4   total_bedrooms      17000 non-null  float64\n",
            " 5   population          17000 non-null  float64\n",
            " 6   households          17000 non-null  float64\n",
            " 7   median_income       17000 non-null  float64\n",
            " 8   median_house_value  17000 non-null  float64\n",
            "dtypes: float64(9)\n",
            "memory usage: 1.2 MB\n"
          ]
        }
      ]
    },
    {
      "source": [
        "# 데이터를 다루기 위한 pandas 라이브러리 불러오기\n",
        "import pandas\n",
        "\n",
        "# 붓꽃 데이터를 가져오기 위한 scikit-learn 라이브러리 불러오기\n",
        "# 만약 이 라이브러리가 설치되어 있지 않다면 아래 명령어를 실행해주세요.\n",
        "# !pip install scikit-learn\n",
        "from sklearn.datasets import load_iris\n",
        "\n",
        "# scikit-learn에서 붓꽃 데이터 불러오기\n",
        "붓꽃데이터_원래형태 = load_iris()\n",
        "\n",
        "# 불러온 붓꽃 데이터를 pandas 데이터프레임 형태로 만들기\n",
        "# 데이터프레임 이름은 '붓꽃_df'라고 정했습니다.\n",
        "# 데이터는 'data' 부분에 있고, 각 열의 이름은 'feature_names' 부분에 있습니다.\n",
        "붓꽃_df = pandas.DataFrame(data=붓꽃데이터_원래형태.data, columns=붓꽃데이터_원래형태.feature_names)\n",
        "\n",
        "# 붓꽃의 종류 정보('species')를 데이터프레임에 추가하기\n",
        "# 종류는 'target' 부분에 숫자 형태로 저장되어 있고, 실제 이름은 'target_names'에 있습니다.\n",
        "# 숫자를 실제 이름으로 바꿔서 추가합니다.\n",
        "붓꽃_df['종류'] = 붓꽃데이터_원래형태.target\n",
        "붓꽃_df['종류'] = 붓꽃_df['종류'].map(lambda x: 붓꽃데이터_원래형태.target_names[x])\n",
        "\n",
        "# 이제 '붓꽃_df' 데이터프레임에 우리가 필요한 붓꽃 데이터가 제대로 들어있습니다.\n",
        "# 이제 간단한 계산을 해봅시다.\n",
        "\n",
        "#-----------------------------------------------------------\n",
        "# 문제 1: 'sepal length (cm)' (꽃받침 길이) 열의 평균 계산하기\n",
        "# scikit-learn에서 가져온 열 이름은 약간 다를 수 있습니다.\n",
        "# '붓꽃_df.columns'를 실행해서 정확한 열 이름을 확인해보는 것이 좋습니다.\n",
        "# 여기서는 'sepal length (cm)'가 정확한 이름입니다.\n",
        "꽃받침_길이_평균 = 붓꽃_df['sepal length (cm)'].mean()\n",
        "\n",
        "# 문제 2: 'petal width (cm)' (꽃잎 너비) 열의 최댓값 계산하기\n",
        "# 여기서는 'petal width (cm)'가 정확한 이름입니다.\n",
        "꽃잎_너비_최대 = 붓꽃_df['petal width (cm)'].max()\n",
        "\n",
        "# 계산 결과 출력\n",
        "print(f\"꽃받침 길이의 평균: {꽃받침_길이_평균:.2f}\") # 소수점 둘째 자리까지 출력\n",
        "print(f\"꽃잎 너비의 최댓값: {꽃잎_너비_최대:.2f}\") # 소수점 둘째 자리까지 출력\n",
        "\n",
        "# 데이터프레임의 열 이름 확인 (필요하다면 주석을 풀고 실행해보세요)\n",
        "# print(\"데이터프레임의 열 이름:\")\n",
        "# for col in 붓꽃_df.columns:\n",
        "#     print(col)"
      ],
      "cell_type": "code",
      "metadata": {
        "colab": {
          "base_uri": "https://localhost:8080/"
        },
        "id": "_h5flO-ECaoz",
        "outputId": "bdebf92d-7aa8-4ed6-970f-5cf758ba9d03"
      },
      "execution_count": 12,
      "outputs": [
        {
          "output_type": "stream",
          "name": "stdout",
          "text": [
            "꽃받침 길이의 평균: 5.84\n",
            "꽃잎 너비의 최댓값: 2.50\n"
          ]
        }
      ]
    },
    {
      "source": [
        "# 데이터를 다루기 위한 pandas 라이브러리 불러오기\n",
        "import pandas\n",
        "\n",
        "# 붓꽃 데이터를 가져오기 위한 scikit-learn 라이브러리 불러오기\n",
        "# 만약 이 라이브러리가 설치되어 있지 않다면 아래 명령어를 실행해주세요.\n",
        "# !pip install scikit-learn\n",
        "from sklearn.datasets import load_iris\n",
        "\n",
        "# scikit-learn에서 붓꽃 데이터 불러오기\n",
        "붓꽃데이터_원래형태 = load_iris()\n",
        "\n",
        "# 불러온 붓꽃 데이터를 pandas 데이터프레임 형태로 만들기\n",
        "붓꽃_df = pandas.DataFrame(data=붓꽃데이터_원래형태.data, columns=붓꽃데이터_원래형태.feature_names)\n",
        "\n",
        "# 붓꽃의 종류 정보('species')를 데이터프레임에 추가하기\n",
        "붓꽃_df['종류'] = 붓꽃데이터_원래형태.target\n",
        "붓꽃_df['종류'] = 붓꽃_df['종류'].map(lambda x: 붓꽃데이터_원래형태.target_names[x])\n",
        "\n",
        "#-----------------------------------------------------------\n",
        "# 문제 6: 붓꽃 종류별로 개수 세기\n",
        "\n",
        "# '종류' 열에 있는 각 값(붓꽃 종류)이 몇 번씩 나오는지 셉니다.\n",
        "종류별_개수 = 붓꽃_df['종류'].value_counts()\n",
        "\n",
        "# 결과 출력\n",
        "print(\"--- 붓꽃 종류별 개수 ---\")\n",
        "print(종류별_개수)\n",
        "\n",
        "# 세 종류의 개수가 같은지 확인\n",
        "# value_counts() 결과는 Series 형태로, 모든 값이 동일한지 확인하려면 .nunique()를 사용하거나 직접 비교할 수 있습니다.\n",
        "# 여기서는 간단하게 모든 값이 동일한지 확인합니다.\n",
        "if 종류별_개수.nunique() == 1:\n",
        "    print(\"\\n세 종류의 붓꽃 개수가 모두 같습니다.\")\n",
        "else:\n",
        "    print(\"\\n세 종류의 붓꽃 개수가 같지 않습니다.\")\n",
        "\n",
        "# 참고: 붓꽃 데이터셋은 기본적으로 각 종류별로 50개씩 균등하게 제공됩니다.\n",
        "# 그래서 보통은 개수가 같다고 나올 것입니다."
      ],
      "cell_type": "code",
      "metadata": {
        "colab": {
          "base_uri": "https://localhost:8080/"
        },
        "id": "OI9_o5mWCx-z",
        "outputId": "802a0535-2b8e-4e34-de59-cd2f660f0dbc"
      },
      "execution_count": 13,
      "outputs": [
        {
          "output_type": "stream",
          "name": "stdout",
          "text": [
            "--- 붓꽃 종류별 개수 ---\n",
            "종류\n",
            "setosa        50\n",
            "versicolor    50\n",
            "virginica     50\n",
            "Name: count, dtype: int64\n",
            "\n",
            "세 종류의 붓꽃 개수가 모두 같습니다.\n"
          ]
        }
      ]
    },
    {
      "source": [
        "# 데이터를 다루기 위한 pandas 라이브러리 불러오기\n",
        "import pandas\n",
        "\n",
        "# 붓꽃 데이터를 가져오기 위한 scikit-learn 라이브러리 불러오기\n",
        "# 만약 이 라이브러리가 설치되어 있지 않다면 아래 명령어를 실행해주세요.\n",
        "# !pip install scikit-learn\n",
        "from sklearn.datasets import load_iris\n",
        "\n",
        "# scikit-learn에서 붓꽃 데이터 불러오기\n",
        "붓꽃데이터_원래형태 = load_iris()\n",
        "\n",
        "# 불러온 붓꽃 데이터를 pandas 데이터프레임 형태로 만들기\n",
        "붓꽃_df = pandas.DataFrame(data=붓꽃데이터_원래형태.data, columns=붓꽃데이터_원래형태.feature_names)\n",
        "\n",
        "# 붓꽃의 종류 정보('species')를 데이터프레임에 추가하기\n",
        "붓꽃_df['종류'] = 붓꽃데이터_원래형태.target\n",
        "붓꽃_df['종류'] = 붓꽃_df['종류'].map(lambda x: 붓꽃데이터_원래형태.target_names[x])\n",
        "\n",
        "#-----------------------------------------------------------\n",
        "# 문제 7: 특정 조건의 데이터 찾기\n",
        "\n",
        "# 문제 7-1: 꽃잎 길이가 2.0보다 큰 데이터는 몇 개인지 찾아보세요\n",
        "# 'petal length (cm)' 열의 값이 2.0보다 큰 행들만 선택합니다.\n",
        "조건1_필터링된_데이터 = 붓꽃_df[붓꽃_df['petal length (cm)'] > 2.0]\n",
        "\n",
        "# 필터링된 데이터의 개수를 셉니다. (행의 개수)\n",
        "조건1_개수 = len(조건1_필터링된_데이터) # 또는 조건1_필터링된_데이터.shape[0] 사용 가능\n",
        "\n",
        "print(f\"꽃잎 길이가 2.0cm보다 큰 붓꽃 데이터 개수: {조건1_개수}개\")\n",
        "\n",
        "# 문제 7-2: 꽃받침 너비가 3.5보다 큰 데이터를 찾아보세요\n",
        "# 'sepal width (cm)' 열의 값이 3.5보다 큰 행들만 선택합니다.\n",
        "조건2_필터링된_데이터 = 붓꽃_df[붓꽃_df['sepal width (cm)'] > 3.5]\n",
        "\n",
        "# 필터링된 데이터의 개수를 셉니다.\n",
        "조건2_개수 = len(조건2_필터링된_데이터)\n",
        "\n",
        "print(f\"꽃받침 너비가 3.5cm보다 큰 붓꽃 데이터 개수: {조건2_개수}개\")\n",
        "\n",
        "# 참고: 필터링된 데이터 자체를 보고 싶다면 print(조건1_필터링된_데이터) 와 같이 출력할 수 있습니다."
      ],
      "cell_type": "code",
      "metadata": {
        "colab": {
          "base_uri": "https://localhost:8080/"
        },
        "id": "Zt3j3RctDEVz",
        "outputId": "bc6b62e0-b318-4e5d-d3a8-a06f40dfcdf9"
      },
      "execution_count": 14,
      "outputs": [
        {
          "output_type": "stream",
          "name": "stdout",
          "text": [
            "꽃잎 길이가 2.0cm보다 큰 붓꽃 데이터 개수: 100개\n",
            "꽃받침 너비가 3.5cm보다 큰 붓꽃 데이터 개수: 19개\n"
          ]
        }
      ]
    },
    {
      "source": [
        "# 데이터를 다루기 위한 pandas 라이브러리 불러오기\n",
        "import pandas\n",
        "\n",
        "# 붓꽃 데이터를 가져오기 위한 scikit-learn 라이브러리 불러오기\n",
        "# 만약 이 라이브러리가 설치되어 있지 않다면 아래 명령어를 실행해주세요.\n",
        "# !pip install scikit-learn\n",
        "from sklearn.datasets import load_iris\n",
        "\n",
        "# scikit-learn에서 붓꽃 데이터 불러오기\n",
        "붓꽃데이터_원래형태 = load_iris()\n",
        "\n",
        "# 불러온 붓꽃 데이터를 pandas 데이터프레임 형태로 만들기\n",
        "붓꽃_df = pandas.DataFrame(data=붓꽃데이터_원래형태.data, columns=붓꽃데이터_원래형태.feature_names)\n",
        "\n",
        "# 붓꽃의 종류 정보('species')를 데이터프레임에 추가하기\n",
        "붓꽃_df['종류'] = 붓꽃데이터_원래형태.target\n",
        "붓꽃_df['종류'] = 붓꽃_df['종류'].map(lambda x: 붓꽃데이터_원래형태.target_names[x])\n",
        "\n",
        "#-----------------------------------------------------------\n",
        "# 문제 8: 특정 붓꽃 종류만 보기\n",
        "\n",
        "# 문제 8-1: 'versicolor' 종류만 골라서 평균 꽃잎 길이를 구해보세요\n",
        "# '종류' 열의 값이 'versicolor'인 행들만 선택합니다.\n",
        "versicolor_데이터 = 붓꽃_df[붓꽃_df['종류'] == 'versicolor']\n",
        "\n",
        "# 선택된 versicolor 데이터에서 'petal length (cm)' 열의 평균을 계산합니다.\n",
        "versicolor_꽃잎_길이_평균 = versicolor_데이터['petal length (cm)'].mean()\n",
        "\n",
        "print(f\"'versicolor' 종류의 평균 꽃잎 길이: {versicolor_꽃잎_길이_평균:.2f} cm\") # 소수점 둘째 자리까지 출력\n",
        "\n",
        "# 문제 8-2: 'virginica' 종류의 최대 꽃받침 너비를 찾아보세요\n",
        "# '종류' 열의 값이 'virginica'인 행들만 선택합니다.\n",
        "virginica_데이터 = 붓꽃_df[붓꽃_df['종류'] == 'virginica']\n",
        "\n",
        "# 선택된 virginica 데이터에서 'sepal width (cm)' 열의 최댓값을 계산합니다.\n",
        "virginica_꽃받침_너비_최대 = virginica_데이터['sepal width (cm)'].max()\n",
        "\n",
        "print(f\"'virginica' 종류의 최대 꽃받침 너비: {virginica_꽃받침_너비_최대:.2f} cm\") # 소수점 둘째 자리까지 출력\n",
        "\n",
        "# 참고: 여기서 사용된 붓꽃 종류 이름은 'setosa', 'versicolor', 'virginica' 입니다.\n",
        "# 만약 다른 이름을 사용하셨다면 (예: 'Iris-versicolor'), 실제 데이터의 '종류' 열에 있는 이름을 확인하고 사용해야 합니다.\n",
        "# 붓꽃_df['종류'].unique() 를 실행해서 실제 데이터에 있는 종류 이름을 확인할 수 있습니다."
      ],
      "cell_type": "code",
      "metadata": {
        "colab": {
          "base_uri": "https://localhost:8080/"
        },
        "id": "V0FP5CX5DSZD",
        "outputId": "3cfa614b-8600-4a4c-cf27-b5cbb98d9da5"
      },
      "execution_count": 16,
      "outputs": [
        {
          "output_type": "stream",
          "name": "stdout",
          "text": [
            "'versicolor' 종류의 평균 꽃잎 길이: 4.26 cm\n",
            "'virginica' 종류의 최대 꽃받침 너비: 3.80 cm\n"
          ]
        }
      ]
    },
    {
      "source": [
        "# 데이터를 다루기 위한 pandas 라이브러리 불러오기\n",
        "import pandas\n",
        "\n",
        "# 그래프를 그리기 위한 matplotlib.pyplot 라이브러리 불러오기\n",
        "# 보통 plt라는 별명으로 사용합니다.\n",
        "import matplotlib.pyplot as plt\n",
        "\n",
        "# 붓꽃 데이터를 가져오기 위한 scikit-learn 라이브러리 불러오기\n",
        "# 만약 이 라이브러리가 설치되어 있지 않다면 아래 명령어를 실행해주세요.\n",
        "# !pip install scikit-learn\n",
        "from sklearn.datasets import load_iris\n",
        "\n",
        "# scikit-learn에서 붓꽃 데이터 불러오기\n",
        "붓꽃데이터_원래형태 = load_iris()\n",
        "\n",
        "# 불러온 붓꽃 데이터를 pandas 데이터프레임 형태로 만들기\n",
        "붓꽃_df = pandas.DataFrame(data=붓꽃데이터_원래형태.data, columns=붓꽃데이터_원래형태.feature_names)\n",
        "\n",
        "# 붓꽃의 종류 정보('species')를 데이터프레임에 추가하기\n",
        "붓꽃_df['종류'] = 붓꽃데이터_원래형태.target\n",
        "붓꽃_df['종류'] = 붓꽃_df['종류'].map(lambda x: 붓꽃데이터_원래형태.target_names[x])\n",
        "\n",
        "#-----------------------------------------------------------\n",
        "# 문제 9: 첫 번째 그래프 그리기\n",
        "\n",
        "# 'petal length (cm)' (꽃잎 길이) 열의 히스토그램 그리기\n",
        "# 데이터프레임의 특정 열을 선택한 후 .hist() 함수를 호출하면 히스토그램을 그릴 수 있습니다.\n",
        "plt.figure(figsize=(8, 6)) # 그래프 크기 설정 (선택 사항)\n",
        "붓꽃_df['petal length (cm)'].hist(bins=20) # 히스토그램 그리기, bins는 막대의 개수입니다.\n",
        "\n",
        "# 그래프 제목 설정\n",
        "plt.title('꽃잎 길이 분포 히스토그램')\n",
        "\n",
        "# x축 이름 설정\n",
        "plt.xlabel('꽃잎 길이 (cm)')\n",
        "\n",
        "# y축 이름 설정\n",
        "plt.ylabel('개수 (빈도)')\n",
        "\n",
        "# 그래프 보여주기\n",
        "plt.show()\n",
        "\n",
        "# 그래프를 보고 어떤 구간에 데이터가 가장 많은지 관찰하세요.\n",
        "# 보통 히스토그램에서 가장 높게 솟아 있는 막대가 있는 구간에 데이터가 가장 많습니다.\n",
        "# 예를 들어, 막대가 1~2cm 구간에 높게 있다면, 꽃잎 길이가 1cm에서 2cm 사이인 붓꽃이 가장 많다는 뜻입니다.\n",
        "# 실제 붓꽃 데이터는 두 개의 주요 그룹으로 나뉘는 경향이 있습니다."
      ],
      "cell_type": "code",
      "metadata": {
        "colab": {
          "base_uri": "https://localhost:8080/",
          "height": 1000
        },
        "id": "4YPyDHeaDay7",
        "outputId": "f21fb470-ccca-4a0b-ec94-ce7ab8608410"
      },
      "execution_count": 17,
      "outputs": [
        {
          "output_type": "stream",
          "name": "stderr",
          "text": [
            "/usr/local/lib/python3.11/dist-packages/IPython/core/pylabtools.py:151: UserWarning: Glyph 44060 (\\N{HANGUL SYLLABLE GAE}) missing from font(s) DejaVu Sans.\n",
            "  fig.canvas.print_figure(bytes_io, **kw)\n",
            "/usr/local/lib/python3.11/dist-packages/IPython/core/pylabtools.py:151: UserWarning: Glyph 49688 (\\N{HANGUL SYLLABLE SU}) missing from font(s) DejaVu Sans.\n",
            "  fig.canvas.print_figure(bytes_io, **kw)\n",
            "/usr/local/lib/python3.11/dist-packages/IPython/core/pylabtools.py:151: UserWarning: Glyph 48712 (\\N{HANGUL SYLLABLE BIN}) missing from font(s) DejaVu Sans.\n",
            "  fig.canvas.print_figure(bytes_io, **kw)\n",
            "/usr/local/lib/python3.11/dist-packages/IPython/core/pylabtools.py:151: UserWarning: Glyph 46020 (\\N{HANGUL SYLLABLE DO}) missing from font(s) DejaVu Sans.\n",
            "  fig.canvas.print_figure(bytes_io, **kw)\n",
            "/usr/local/lib/python3.11/dist-packages/IPython/core/pylabtools.py:151: UserWarning: Glyph 44867 (\\N{HANGUL SYLLABLE GGOC}) missing from font(s) DejaVu Sans.\n",
            "  fig.canvas.print_figure(bytes_io, **kw)\n",
            "/usr/local/lib/python3.11/dist-packages/IPython/core/pylabtools.py:151: UserWarning: Glyph 51086 (\\N{HANGUL SYLLABLE IP}) missing from font(s) DejaVu Sans.\n",
            "  fig.canvas.print_figure(bytes_io, **kw)\n",
            "/usr/local/lib/python3.11/dist-packages/IPython/core/pylabtools.py:151: UserWarning: Glyph 44600 (\\N{HANGUL SYLLABLE GIL}) missing from font(s) DejaVu Sans.\n",
            "  fig.canvas.print_figure(bytes_io, **kw)\n",
            "/usr/local/lib/python3.11/dist-packages/IPython/core/pylabtools.py:151: UserWarning: Glyph 51060 (\\N{HANGUL SYLLABLE I}) missing from font(s) DejaVu Sans.\n",
            "  fig.canvas.print_figure(bytes_io, **kw)\n",
            "/usr/local/lib/python3.11/dist-packages/IPython/core/pylabtools.py:151: UserWarning: Glyph 48516 (\\N{HANGUL SYLLABLE BUN}) missing from font(s) DejaVu Sans.\n",
            "  fig.canvas.print_figure(bytes_io, **kw)\n",
            "/usr/local/lib/python3.11/dist-packages/IPython/core/pylabtools.py:151: UserWarning: Glyph 54252 (\\N{HANGUL SYLLABLE PO}) missing from font(s) DejaVu Sans.\n",
            "  fig.canvas.print_figure(bytes_io, **kw)\n",
            "/usr/local/lib/python3.11/dist-packages/IPython/core/pylabtools.py:151: UserWarning: Glyph 55176 (\\N{HANGUL SYLLABLE HI}) missing from font(s) DejaVu Sans.\n",
            "  fig.canvas.print_figure(bytes_io, **kw)\n",
            "/usr/local/lib/python3.11/dist-packages/IPython/core/pylabtools.py:151: UserWarning: Glyph 49828 (\\N{HANGUL SYLLABLE SEU}) missing from font(s) DejaVu Sans.\n",
            "  fig.canvas.print_figure(bytes_io, **kw)\n",
            "/usr/local/lib/python3.11/dist-packages/IPython/core/pylabtools.py:151: UserWarning: Glyph 53664 (\\N{HANGUL SYLLABLE TO}) missing from font(s) DejaVu Sans.\n",
            "  fig.canvas.print_figure(bytes_io, **kw)\n",
            "/usr/local/lib/python3.11/dist-packages/IPython/core/pylabtools.py:151: UserWarning: Glyph 44536 (\\N{HANGUL SYLLABLE GEU}) missing from font(s) DejaVu Sans.\n",
            "  fig.canvas.print_figure(bytes_io, **kw)\n",
            "/usr/local/lib/python3.11/dist-packages/IPython/core/pylabtools.py:151: UserWarning: Glyph 47016 (\\N{HANGUL SYLLABLE RAEM}) missing from font(s) DejaVu Sans.\n",
            "  fig.canvas.print_figure(bytes_io, **kw)\n"
          ]
        },
        {
          "output_type": "display_data",
          "data": {
            "text/plain": [
              "<Figure size 800x600 with 1 Axes>"
            ],
            "image/png": "[encoded data removed]"
          },
          "metadata": {}
        }
      ]
    },
    {
      "source": [
        "# 데이터를 다루기 위한 pandas 라이브러리 불러오기\n",
        "import pandas\n",
        "\n",
        "# 그래프를 그리기 위한 matplotlib.pyplot 라이브러리 불러오기\n",
        "# 보통 plt라는 별명으로 사용합니다.\n",
        "import matplotlib.pyplot as plt\n",
        "\n",
        "# 붓꽃 데이터를 가져오기 위한 scikit-learn 라이브러리 불러오기\n",
        "# 만약 이 라이브러리가 설치되어 있지 않다면 아래 명령어를 실행해주세요.\n",
        "# !pip install scikit-learn\n",
        "from sklearn.datasets import load_iris\n",
        "\n",
        "# scikit-learn에서 붓꽃 데이터 불러오기\n",
        "붓꽃데이터_원래형태 = load_iris()\n",
        "\n",
        "# 불러온 붓꽃 데이터를 pandas 데이터프레임 형태로 만들기\n",
        "붓꽃_df = pandas.DataFrame(data=붓꽃데이터_원래형태.data, columns=붓꽃데이터_원래형태.feature_names)\n",
        "\n",
        "# 붓꽃의 종류 정보('species')를 데이터프레임에 추가하기\n",
        "붓꽃_df['종류'] = 붓꽃데이터_원래형태.target\n",
        "붓꽃_df['종류'] = 붓꽃_df['종류'].map(lambda x: 붓꽃데이터_원래형태.target_names[x])\n",
        "\n",
        "#-----------------------------------------------------------\n",
        "# 문제 10: 산점도 그리기\n",
        "\n",
        "# 'petal length (cm)' (꽃잎 길이)와 'petal width (cm)' (꽃잎 너비)의 산점도 그리기\n",
        "# 각 점은 하나의 붓꽃 데이터를 나타냅니다.\n",
        "# x축은 꽃잎 길이, y축은 꽃잎 너비로 설정하여 점을 그립니다.\n",
        "plt.figure(figsize=(8, 6)) # 그래프 크기 설정 (선택 사항)\n",
        "\n",
        "# plt.scatter(x축 데이터, y축 데이터)\n",
        "# 여기서는 꽃잎 길이를 x축, 꽃잎 너비를 y축으로 사용합니다.\n",
        "plt.scatter(붓꽃_df['petal length (cm)'], 붓꽃_df['petal width (cm)'])\n",
        "\n",
        "# 그래프 제목 설정\n",
        "plt.title('꽃잎 길이 vs 꽃잎 너비 산점도')\n",
        "\n",
        "# x축 이름 설정\n",
        "plt.xlabel('꽃잎 길이 (cm)')\n",
        "\n",
        "# y축 이름 설정\n",
        "plt.ylabel('꽃잎 너비 (cm)')\n",
        "\n",
        "# 그래프 보여주기\n",
        "plt.show()\n",
        "\n",
        "# 그래프를 보고 점들이 어떤 패턴을 보이는지 관찰하세요.\n",
        "# 만약 점들이 오른쪽 위로 갈수록 밀집되어 있다면, 길이가 길어질수록 너비도 넓어지는 경향이 있다고 볼 수 있습니다.\n",
        "# 붓꽃 데이터에서는 이 두 특성 사이에 강한 양의 상관관계가 나타나는 것을 볼 수 있습니다."
      ],
      "cell_type": "code",
      "metadata": {
        "colab": {
          "base_uri": "https://localhost:8080/",
          "height": 865
        },
        "id": "u5lApG6LDlLj",
        "outputId": "881c7c5e-e1cf-43f3-f798-b21d406062ca"
      },
      "execution_count": 18,
      "outputs": [
        {
          "output_type": "stream",
          "name": "stderr",
          "text": [
            "/usr/local/lib/python3.11/dist-packages/IPython/core/pylabtools.py:151: UserWarning: Glyph 44867 (\\N{HANGUL SYLLABLE GGOC}) missing from font(s) DejaVu Sans.\n",
            "  fig.canvas.print_figure(bytes_io, **kw)\n",
            "/usr/local/lib/python3.11/dist-packages/IPython/core/pylabtools.py:151: UserWarning: Glyph 51086 (\\N{HANGUL SYLLABLE IP}) missing from font(s) DejaVu Sans.\n",
            "  fig.canvas.print_figure(bytes_io, **kw)\n",
            "/usr/local/lib/python3.11/dist-packages/IPython/core/pylabtools.py:151: UserWarning: Glyph 45320 (\\N{HANGUL SYLLABLE NEO}) missing from font(s) DejaVu Sans.\n",
            "  fig.canvas.print_figure(bytes_io, **kw)\n",
            "/usr/local/lib/python3.11/dist-packages/IPython/core/pylabtools.py:151: UserWarning: Glyph 48708 (\\N{HANGUL SYLLABLE BI}) missing from font(s) DejaVu Sans.\n",
            "  fig.canvas.print_figure(bytes_io, **kw)\n",
            "/usr/local/lib/python3.11/dist-packages/IPython/core/pylabtools.py:151: UserWarning: Glyph 44600 (\\N{HANGUL SYLLABLE GIL}) missing from font(s) DejaVu Sans.\n",
            "  fig.canvas.print_figure(bytes_io, **kw)\n",
            "/usr/local/lib/python3.11/dist-packages/IPython/core/pylabtools.py:151: UserWarning: Glyph 51060 (\\N{HANGUL SYLLABLE I}) missing from font(s) DejaVu Sans.\n",
            "  fig.canvas.print_figure(bytes_io, **kw)\n",
            "/usr/local/lib/python3.11/dist-packages/IPython/core/pylabtools.py:151: UserWarning: Glyph 49328 (\\N{HANGUL SYLLABLE SAN}) missing from font(s) DejaVu Sans.\n",
            "  fig.canvas.print_figure(bytes_io, **kw)\n",
            "/usr/local/lib/python3.11/dist-packages/IPython/core/pylabtools.py:151: UserWarning: Glyph 51216 (\\N{HANGUL SYLLABLE JEOM}) missing from font(s) DejaVu Sans.\n",
            "  fig.canvas.print_figure(bytes_io, **kw)\n",
            "/usr/local/lib/python3.11/dist-packages/IPython/core/pylabtools.py:151: UserWarning: Glyph 46020 (\\N{HANGUL SYLLABLE DO}) missing from font(s) DejaVu Sans.\n",
            "  fig.canvas.print_figure(bytes_io, **kw)\n"
          ]
        },
        {
          "output_type": "display_data",
          "data": {
            "text/plain": [
              "<Figure size 800x600 with 1 Axes>"
            ],
            "image/png": "[encoded data removed]"
          },
          "metadata": {}
        }
      ]
    },
    {
      "source": [
        "# 데이터를 다루기 위한 pandas 라이브러리 불러오기\n",
        "import pandas\n",
        "\n",
        "# 그래프를 그리기 위한 matplotlib.pyplot 라이브러리 불러오기\n",
        "# 보통 plt라는 별명으로 사용합니다.\n",
        "import matplotlib.pyplot as plt\n",
        "\n",
        "# 붓꽃 데이터를 가져오기 위한 scikit-learn 라이브러리 불러오기\n",
        "# 만약 이 라이브러리가 설치되어 있지 않다면 아래 명령어를 실행해주세요.\n",
        "# !pip install scikit-learn\n",
        "from sklearn.datasets import load_iris\n",
        "\n",
        "# scikit-learn에서 붓꽃 데이터 불러오기\n",
        "붓꽃데이터_원래형태 = load_iris()\n",
        "\n",
        "# 불러온 붓꽃 데이터를 pandas 데이터프레임 형태로 만들기\n",
        "붓꽃_df = pandas.DataFrame(data=붓꽃데이터_원래형태.data, columns=붓꽃데이터_원래형태.feature_names)\n",
        "\n",
        "# 붓꽃의 종류 정보('species')를 데이터프레임에 추가하기\n",
        "붓꽃_df['종류'] = 붓꽃데이터_원래형태.target\n",
        "붓꽃_df['종류'] = 붓꽃_df['종류'].map(lambda x: 붓꽃데이터_원래형태.target_names[x])\n",
        "\n",
        "#-----------------------------------------------------------\n",
        "# 문제 11: 붓꽃 종류별로 다른 색깔로 산점도 그리기\n",
        "\n",
        "# 'petal length (cm)' (꽃잎 길이)와 'petal width (cm)' (꽃잎 너비)의 산점도를\n",
        "# 붓꽃 종류별로 다른 색깔로 그립니다.\n",
        "\n",
        "plt.figure(figsize=(10, 8)) # 그래프 크기 설정\n",
        "\n",
        "# 각 붓꽃 종류를 순회하며 해당 종류의 데이터만 선택하여 다른 색으로 산점도 그리기\n",
        "# 붓꽃 종류 이름들을 가져옵니다.\n",
        "붓꽃_종류_목록 = 붓꽃_df['종류'].unique()\n",
        "색깔_목록 = ['red', 'green', 'blue'] # 각 종류에 사용할 색깔 목록\n",
        "\n",
        "for i, 종류_이름 in enumerate(붓꽃_종류_목록):\n",
        "    # 현재 종류 이름에 해당하는 데이터만 필터링합니다.\n",
        "    해당_종류_데이터 = 붓꽃_df[붓꽃_df['종류'] == 종류_이름]\n",
        "\n",
        "    # 해당 종류의 데이터에 대해 산점도를 그립니다.\n",
        "    # x축은 꽃잎 길이, y축은 꽃잎 너비\n",
        "    # color는 위에서 정한 색깔 목록에서 현재 순서에 맞는 색을 사용합니다.\n",
        "    # label은 범례에 표시될 이름입니다.\n",
        "    plt.scatter(해당_종류_데이터['petal length (cm)'],\n",
        "                해당_종류_데이터['petal width (cm)'],\n",
        "                color=색깔_목록[i],\n",
        "                label=종류_이름)\n",
        "\n",
        "# 그래프 제목 설정\n",
        "plt.title('붓꽃 꽃잎 길이와 너비 산점도 (종류별 색상 구분)')\n",
        "\n",
        "# x축 이름 설정\n",
        "plt.xlabel('꽃잎 길이 (cm)')\n",
        "\n",
        "# y축 이름 설정\n",
        "plt.ylabel('꽃잎 너비 (cm)')\n",
        "\n",
        "# 범례 표시 (어떤 색이 어떤 종류인지 알려줍니다)\n",
        "plt.legend()\n",
        "\n",
        "# 그래프 보여주기\n",
        "plt.show()\n",
        "\n",
        "# 그래프를 보고 관찰하세요.\n",
        "# - 어떤 색깔(즉, 어떤 종류)의 점들이 다른 점들과 가장 멀리 떨어져 있나요?\n",
        "#   이 종류가 가장 구별하기 쉬운 종류입니다.\n",
        "# - 어떤 색깔의 점들이 서로 섞여서 구별하기 어렵게 되어 있나요?\n",
        "#   이 종류들이 서로 겹치는 종류입니다."
      ],
      "cell_type": "code",
      "metadata": {
        "colab": {
          "base_uri": "https://localhost:8080/",
          "height": 1000
        },
        "id": "C_xQCEQ5DqZT",
        "outputId": "cbf91dd0-bee6-407a-9b38-18556c13fecc"
      },
      "execution_count": 19,
      "outputs": [
        {
          "output_type": "stream",
          "name": "stderr",
          "text": [
            "/usr/local/lib/python3.11/dist-packages/IPython/core/pylabtools.py:151: UserWarning: Glyph 44867 (\\N{HANGUL SYLLABLE GGOC}) missing from font(s) DejaVu Sans.\n",
            "  fig.canvas.print_figure(bytes_io, **kw)\n",
            "/usr/local/lib/python3.11/dist-packages/IPython/core/pylabtools.py:151: UserWarning: Glyph 51086 (\\N{HANGUL SYLLABLE IP}) missing from font(s) DejaVu Sans.\n",
            "  fig.canvas.print_figure(bytes_io, **kw)\n",
            "/usr/local/lib/python3.11/dist-packages/IPython/core/pylabtools.py:151: UserWarning: Glyph 45320 (\\N{HANGUL SYLLABLE NEO}) missing from font(s) DejaVu Sans.\n",
            "  fig.canvas.print_figure(bytes_io, **kw)\n",
            "/usr/local/lib/python3.11/dist-packages/IPython/core/pylabtools.py:151: UserWarning: Glyph 48708 (\\N{HANGUL SYLLABLE BI}) missing from font(s) DejaVu Sans.\n",
            "  fig.canvas.print_figure(bytes_io, **kw)\n",
            "/usr/local/lib/python3.11/dist-packages/IPython/core/pylabtools.py:151: UserWarning: Glyph 48531 (\\N{HANGUL SYLLABLE BUS}) missing from font(s) DejaVu Sans.\n",
            "  fig.canvas.print_figure(bytes_io, **kw)\n",
            "/usr/local/lib/python3.11/dist-packages/IPython/core/pylabtools.py:151: UserWarning: Glyph 44600 (\\N{HANGUL SYLLABLE GIL}) missing from font(s) DejaVu Sans.\n",
            "  fig.canvas.print_figure(bytes_io, **kw)\n",
            "/usr/local/lib/python3.11/dist-packages/IPython/core/pylabtools.py:151: UserWarning: Glyph 51060 (\\N{HANGUL SYLLABLE I}) missing from font(s) DejaVu Sans.\n",
            "  fig.canvas.print_figure(bytes_io, **kw)\n",
            "/usr/local/lib/python3.11/dist-packages/IPython/core/pylabtools.py:151: UserWarning: Glyph 50752 (\\N{HANGUL SYLLABLE WA}) missing from font(s) DejaVu Sans.\n",
            "  fig.canvas.print_figure(bytes_io, **kw)\n",
            "/usr/local/lib/python3.11/dist-packages/IPython/core/pylabtools.py:151: UserWarning: Glyph 49328 (\\N{HANGUL SYLLABLE SAN}) missing from font(s) DejaVu Sans.\n",
            "  fig.canvas.print_figure(bytes_io, **kw)\n",
            "/usr/local/lib/python3.11/dist-packages/IPython/core/pylabtools.py:151: UserWarning: Glyph 51216 (\\N{HANGUL SYLLABLE JEOM}) missing from font(s) DejaVu Sans.\n",
            "  fig.canvas.print_figure(bytes_io, **kw)\n",
            "/usr/local/lib/python3.11/dist-packages/IPython/core/pylabtools.py:151: UserWarning: Glyph 46020 (\\N{HANGUL SYLLABLE DO}) missing from font(s) DejaVu Sans.\n",
            "  fig.canvas.print_figure(bytes_io, **kw)\n",
            "/usr/local/lib/python3.11/dist-packages/IPython/core/pylabtools.py:151: UserWarning: Glyph 51333 (\\N{HANGUL SYLLABLE JONG}) missing from font(s) DejaVu Sans.\n",
            "  fig.canvas.print_figure(bytes_io, **kw)\n",
            "/usr/local/lib/python3.11/dist-packages/IPython/core/pylabtools.py:151: UserWarning: Glyph 47448 (\\N{HANGUL SYLLABLE RYU}) missing from font(s) DejaVu Sans.\n",
            "  fig.canvas.print_figure(bytes_io, **kw)\n",
            "/usr/local/lib/python3.11/dist-packages/IPython/core/pylabtools.py:151: UserWarning: Glyph 48324 (\\N{HANGUL SYLLABLE BYEOL}) missing from font(s) DejaVu Sans.\n",
            "  fig.canvas.print_figure(bytes_io, **kw)\n",
            "/usr/local/lib/python3.11/dist-packages/IPython/core/pylabtools.py:151: UserWarning: Glyph 49353 (\\N{HANGUL SYLLABLE SAEG}) missing from font(s) DejaVu Sans.\n",
            "  fig.canvas.print_figure(bytes_io, **kw)\n",
            "/usr/local/lib/python3.11/dist-packages/IPython/core/pylabtools.py:151: UserWarning: Glyph 49345 (\\N{HANGUL SYLLABLE SANG}) missing from font(s) DejaVu Sans.\n",
            "  fig.canvas.print_figure(bytes_io, **kw)\n",
            "/usr/local/lib/python3.11/dist-packages/IPython/core/pylabtools.py:151: UserWarning: Glyph 44396 (\\N{HANGUL SYLLABLE GU}) missing from font(s) DejaVu Sans.\n",
            "  fig.canvas.print_figure(bytes_io, **kw)\n",
            "/usr/local/lib/python3.11/dist-packages/IPython/core/pylabtools.py:151: UserWarning: Glyph 48516 (\\N{HANGUL SYLLABLE BUN}) missing from font(s) DejaVu Sans.\n",
            "  fig.canvas.print_figure(bytes_io, **kw)\n"
          ]
        },
        {
          "output_type": "display_data",
          "data": {
            "text/plain": [
              "<Figure size 1000x800 with 1 Axes>"
            ],
            "image/png": "[encoded data removed]"
          },
          "metadata": {}
        }
      ]
    },
    {
      "source": [
        "# 데이터를 다루기 위한 pandas 라이브러리 불러오기\n",
        "import pandas\n",
        "\n",
        "# 붓꽃 데이터를 가져오기 위한 scikit-learn 라이브러리 불러오기\n",
        "# 만약 이 라이브러리가 설치되어 있지 않다면 아래 명령어를 실행해주세요.\n",
        "# !pip install scikit-learn\n",
        "from sklearn.datasets import load_iris\n",
        "\n",
        "# scikit-learn에서 붓꽃 데이터 불러오기\n",
        "붓꽃데이터_원래형태 = load_iris()\n",
        "\n",
        "# 불러온 붓꽃 데이터를 pandas 데이터프레임 형태로 만들기\n",
        "붓꽃_df = pandas.DataFrame(data=붓꽃데이터_원래형태.data, columns=붓꽃데이터_원래형태.feature_names)\n",
        "\n",
        "# 붓꽃의 종류 정보('species')를 데이터프레임에 추가하기\n",
        "붓꽃_df['종류'] = 붓꽃데이터_원래형태.target\n",
        "붓꽃_df['종류'] = 붓꽃_df['종류'].map(lambda x: 붓꽃데이터_원래형태.target_names[x])\n",
        "\n",
        "#-----------------------------------------------------------\n",
        "# 문제 12: 종류별 평균 비교하기\n",
        "\n",
        "# 붓꽃 종류별로 데이터를 그룹화합니다.\n",
        "종류별_그룹 = 붓꽃_df.groupby('종류')\n",
        "\n",
        "# 그룹별로 'sepal length (cm)' (꽃받침 길이)의 평균을 계산합니다.\n",
        "종류별_꽃받침_길이_평균 = 종류별_그룹['sepal length (cm)'].mean()\n",
        "\n",
        "# 그룹별로 'petal width (cm)' (꽃잎 너비)의 평균을 계산합니다.\n",
        "종류별_꽃잎_너비_평균 = 종류별_그룹['petal width (cm)'].mean()\n",
        "\n",
        "# 계산 결과를 표로 정리합니다.\n",
        "# 새로운 데이터프레임을 만들어서 평균값들을 넣습니다.\n",
        "평균_비교_표 = pandas.DataFrame({\n",
        "    '꽃받침 길이 평균 (cm)': 종류별_꽃받침_길이_평균,\n",
        "    '꽃잎 너비 평균 (cm)': 종류별_꽃잎_너비_평균\n",
        "})\n",
        "\n",
        "# 표 출력\n",
        "print(\"--- 붓꽃 종류별 평균 비교 ---\")\n",
        "print(평균_비교_표.to_markdown(numalign=\"left\", stralign=\"left\")) # 표 형태로 예쁘게 출력 (to_markdown 사용)\n",
        "\n",
        "# 어떤 종류가 꽃받침이 가장 긴가요?\n",
        "# '꽃받침 길이 평균' 열에서 가장 큰 값을 가지는 행의 인덱스(종류 이름)를 찾습니다.\n",
        "가장_긴_꽃받침_종류 = 평균_비교_표['꽃받침 길이 평균 (cm)'].idxmax()\n",
        "가장_긴_꽃받침_평균 = 평균_비교_표['꽃받침 길이 평균 (cm)'].max()\n",
        "\n",
        "print(f\"\\n꽃받침이 가장 긴 종류는 '{가장_긴_꽃받침_종류}'이며, 평균 길이는 {가장_긴_꽃받침_평균:.2f} cm 입니다.\")\n",
        "\n",
        "# 어떤 종류가 꽃잎이 가장 넓은가요?\n",
        "# '꽃잎 너비 평균' 열에서 가장 큰 값을 가지는 행의 인덱스(종류 이름)를 찾습니다.\n",
        "가장_넓은_꽃잎_종류 = 평균_비교_표['꽃잎 너비 평균 (cm)'].idxmax()\n",
        "가장_넓은_꽃잎_평균 = 평균_비교_표['꽃잎 너비 평균 (cm)'].max()\n",
        "\n",
        "print(f\"꽃잎이 가장 넓은 종류는 '{가장_넓은_꽃잎_종류}'이며, 평균 너비는 {가장_넓은_꽃잎_평균:.2f} cm 입니다.\")\n",
        "\n",
        "# 참고: to_markdown을 사용하려면 tabulate 라이브러리가 설치되어 있어야 합니다.\n"
      ],
      "cell_type": "code",
      "metadata": {
        "colab": {
          "base_uri": "https://localhost:8080/"
        },
        "id": "R7RdjepkDxS0",
        "outputId": "e027e8e3-0da3-4409-9711-91c754db9a72"
      },
      "execution_count": 20,
      "outputs": [
        {
          "output_type": "stream",
          "name": "stdout",
          "text": [
            "--- 붓꽃 종류별 평균 비교 ---\n",
            "| 종류       | 꽃받침 길이 평균 (cm)   | 꽃잎 너비 평균 (cm)   |\n",
            "|:-----------|:------------------------|:----------------------|\n",
            "| setosa     | 5.006                   | 0.246                 |\n",
            "| versicolor | 5.936                   | 1.326                 |\n",
            "| virginica  | 6.588                   | 2.026                 |\n",
            "\n",
            "꽃받침이 가장 긴 종류는 'virginica'이며, 평균 길이는 6.59 cm 입니다.\n",
            "꽃잎이 가장 넓은 종류는 'virginica'이며, 평균 너비는 2.03 cm 입니다.\n"
          ]
        }
      ]
    },
    {
      "source": [
        "# 데이터를 다루기 위한 pandas 라이브러리 불러오기\n",
        "import pandas\n",
        "\n",
        "# 그래프를 그리기 위한 matplotlib.pyplot 라이브러리 불러오기\n",
        "# 보통 plt라는 별명으로 사용합니다.\n",
        "import matplotlib.pyplot as plt\n",
        "\n",
        "# 붓꽃 데이터를 가져오기 위한 scikit-learn 라이브러리 불러오기\n",
        "# 만약 이 라이브러리가 설치되어 있지 않다면 아래 명령어를 실행해주세요.\n",
        "# !pip install scikit-learn\n",
        "from sklearn.datasets import load_iris\n",
        "\n",
        "# scikit-learn에서 붓꽃 데이터 불러오기\n",
        "붓꽃데이터_원래형태 = load_iris()\n",
        "\n",
        "# 불러온 붓꽃 데이터를 pandas 데이터프레임 형태로 만들기\n",
        "붓꽃_df = pandas.DataFrame(data=붓꽃데이터_원래형태.data, columns=붓꽃데이터_원래형태.feature_names)\n",
        "\n",
        "# 붓꽃의 종류 정보('species')를 데이터프레임에 추가하기\n",
        "붓꽃_df['종류'] = 붓꽃데이터_원래형태.target\n",
        "붓꽃_df['종류'] = 붓꽃_df['종류'].map(lambda x: 붓꽃데이터_원래형태.target_names[x])\n",
        "\n",
        "#-----------------------------------------------------------\n",
        "# 문제 14: 박스플롯으로 분포 비교하기\n",
        "\n",
        "# 각 측정값(열)별로 붓꽃 종류별 박스플롯을 그립니다.\n",
        "\n",
        "# 'petal length (cm)' (꽃잎 길이) 종류별 박스플롯\n",
        "plt.figure(figsize=(8, 6)) # 그래프 크기 설정\n",
        "# 박스플롯은 특정 열을 y축 데이터로, 다른 열(범주형)을 그룹 기준으로 그립니다.\n",
        "붓꽃_df.boxplot(column='petal length (cm)', by='종류')\n",
        "\n",
        "plt.title('붓꽃 종류별 꽃잎 길이 분포 (박스플롯)')\n",
        "plt.suptitle('') # boxplot by 옵션 사용 시 자동으로 생기는 상위 제목 제거\n",
        "plt.xlabel('붓꽃 종류')\n",
        "plt.ylabel('꽃잎 길이 (cm)')\n",
        "plt.show()\n",
        "\n",
        "\n",
        "# 'petal width (cm)' (꽃잎 너비) 종류별 박스플롯\n",
        "plt.figure(figsize=(8, 6))\n",
        "붓꽃_df.boxplot(column='petal width (cm)', by='종류')\n",
        "\n",
        "plt.title('붓꽃 종류별 꽃잎 너비 분포 (박스플롯)')\n",
        "plt.suptitle('')\n",
        "plt.xlabel('붓꽃 종류')\n",
        "plt.ylabel('꽃잎 너비 (cm)')\n",
        "plt.show()\n",
        "\n",
        "# 'sepal length (cm)' (꽃받침 길이) 종류별 박스플롯\n",
        "plt.figure(figsize=(8, 6))\n",
        "붓꽃_df.boxplot(column='sepal length (cm)', by='종류')\n",
        "\n",
        "plt.title('붓꽃 종류별 꽃받침 길이 분포 (박스플롯)')\n",
        "plt.suptitle('')\n",
        "plt.xlabel('붓꽃 종류')\n",
        "plt.ylabel('꽃받침 길이 (cm)')\n",
        "plt.show()\n",
        "\n",
        "# 'sepal width (cm)' (꽃받침 너비) 종류별 박스플롯\n",
        "plt.figure(figsize=(8, 6))\n",
        "붓꽃_df.boxplot(column='sepal width (cm)', by='종류')\n",
        "\n",
        "plt.title('붓꽃 종류별 꽃받침 너비 분포 (박스플롯)')\n",
        "plt.suptitle('')\n",
        "plt.xlabel('붓꽃 종류')\n",
        "plt.ylabel('꽃받침 너비 (cm)')\n",
        "plt.show()\n",
        "\n",
        "\n",
        "# 그래프를 보고 다음을 관찰하세요:\n",
        "# - 박스의 길이가 길수록 (IQR 범위가 넓을수록) 데이터의 분포 범위가 넓다는 뜻입니다.\n",
        "#   어떤 종류의 어떤 측정값 박스가 가장 길어 보이나요?\n",
        "# - 박스 바깥에 점으로 표시된 데이터가 있나요? 있다면 그것이 이상치입니다.\n",
        "#   어떤 그래프에 이상치가 나타나나요? 어떤 종류에서 나타나나요?\n",
        "\n",
        "print(\"\\n그래프를 보고 다음을 관찰하세요:\")\n",
        "print(\"- 박스(Box)는 데이터의 중간 50% 범위(IQR)를 나타냅니다. 박스가 길수록 데이터의 중간 부분이 넓게 퍼져있다는 뜻입니다.\")\n",
        "print(\"- 박스 안의 선은 중앙값(Median)입니다.\")\n",
        "print(\"- 박스에서 위아래로 뻗은 선(Whisker)은 이상치가 아닌 데이터의 일반적인 범위를 나타냅니다.\")\n",
        "print(\"- Whisper 바깥에 점으로 표시된 데이터는 이상치(Outlier)일 가능성이 있는 값입니다.\")\n",
        "print(\"\\n각 그래프에서 박스의 길이와 점으로 표시된 이상치를 찾아보세요.\")"
      ],
      "cell_type": "code",
      "metadata": {
        "colab": {
          "base_uri": "https://localhost:8080/",
          "height": 1000
        },
        "id": "eOPZNA89D5CU",
        "outputId": "58bacba8-e5ff-401a-80ba-570b5e2acebd"
      },
      "execution_count": 21,
      "outputs": [
        {
          "output_type": "display_data",
          "data": {
            "text/plain": [
              "<Figure size 800x600 with 0 Axes>"
            ]
          },
          "metadata": {}
        },
        {
          "output_type": "stream",
          "name": "stderr",
          "text": [
            "/usr/local/lib/python3.11/dist-packages/IPython/core/pylabtools.py:151: UserWarning: Glyph 44867 (\\N{HANGUL SYLLABLE GGOC}) missing from font(s) DejaVu Sans.\n",
            "  fig.canvas.print_figure(bytes_io, **kw)\n",
            "/usr/local/lib/python3.11/dist-packages/IPython/core/pylabtools.py:151: UserWarning: Glyph 51086 (\\N{HANGUL SYLLABLE IP}) missing from font(s) DejaVu Sans.\n",
            "  fig.canvas.print_figure(bytes_io, **kw)\n",
            "/usr/local/lib/python3.11/dist-packages/IPython/core/pylabtools.py:151: UserWarning: Glyph 44600 (\\N{HANGUL SYLLABLE GIL}) missing from font(s) DejaVu Sans.\n",
            "  fig.canvas.print_figure(bytes_io, **kw)\n",
            "/usr/local/lib/python3.11/dist-packages/IPython/core/pylabtools.py:151: UserWarning: Glyph 51060 (\\N{HANGUL SYLLABLE I}) missing from font(s) DejaVu Sans.\n",
            "  fig.canvas.print_figure(bytes_io, **kw)\n",
            "/usr/local/lib/python3.11/dist-packages/IPython/core/pylabtools.py:151: UserWarning: Glyph 48531 (\\N{HANGUL SYLLABLE BUS}) missing from font(s) DejaVu Sans.\n",
            "  fig.canvas.print_figure(bytes_io, **kw)\n",
            "/usr/local/lib/python3.11/dist-packages/IPython/core/pylabtools.py:151: UserWarning: Glyph 51333 (\\N{HANGUL SYLLABLE JONG}) missing from font(s) DejaVu Sans.\n",
            "  fig.canvas.print_figure(bytes_io, **kw)\n",
            "/usr/local/lib/python3.11/dist-packages/IPython/core/pylabtools.py:151: UserWarning: Glyph 47448 (\\N{HANGUL SYLLABLE RYU}) missing from font(s) DejaVu Sans.\n",
            "  fig.canvas.print_figure(bytes_io, **kw)\n",
            "/usr/local/lib/python3.11/dist-packages/IPython/core/pylabtools.py:151: UserWarning: Glyph 48324 (\\N{HANGUL SYLLABLE BYEOL}) missing from font(s) DejaVu Sans.\n",
            "  fig.canvas.print_figure(bytes_io, **kw)\n",
            "/usr/local/lib/python3.11/dist-packages/IPython/core/pylabtools.py:151: UserWarning: Glyph 48516 (\\N{HANGUL SYLLABLE BUN}) missing from font(s) DejaVu Sans.\n",
            "  fig.canvas.print_figure(bytes_io, **kw)\n",
            "/usr/local/lib/python3.11/dist-packages/IPython/core/pylabtools.py:151: UserWarning: Glyph 54252 (\\N{HANGUL SYLLABLE PO}) missing from font(s) DejaVu Sans.\n",
            "  fig.canvas.print_figure(bytes_io, **kw)\n",
            "/usr/local/lib/python3.11/dist-packages/IPython/core/pylabtools.py:151: UserWarning: Glyph 48149 (\\N{HANGUL SYLLABLE BAG}) missing from font(s) DejaVu Sans.\n",
            "  fig.canvas.print_figure(bytes_io, **kw)\n",
            "/usr/local/lib/python3.11/dist-packages/IPython/core/pylabtools.py:151: UserWarning: Glyph 49828 (\\N{HANGUL SYLLABLE SEU}) missing from font(s) DejaVu Sans.\n",
            "  fig.canvas.print_figure(bytes_io, **kw)\n",
            "/usr/local/lib/python3.11/dist-packages/IPython/core/pylabtools.py:151: UserWarning: Glyph 54540 (\\N{HANGUL SYLLABLE PEUL}) missing from font(s) DejaVu Sans.\n",
            "  fig.canvas.print_figure(bytes_io, **kw)\n",
            "/usr/local/lib/python3.11/dist-packages/IPython/core/pylabtools.py:151: UserWarning: Glyph 47215 (\\N{HANGUL SYLLABLE ROS}) missing from font(s) DejaVu Sans.\n",
            "  fig.canvas.print_figure(bytes_io, **kw)\n"
          ]
        },
        {
          "output_type": "display_data",
          "data": {
            "text/plain": [
              "<Figure size 640x480 with 1 Axes>"
            ],
            "image/png": "[encoded data removed]"
          },
          "metadata": {}
        },
        {
          "output_type": "display_data",
          "data": {
            "text/plain": [
              "<Figure size 800x600 with 0 Axes>"
            ]
          },
          "metadata": {}
        },
        {
          "output_type": "stream",
          "name": "stderr",
          "text": [
            "/usr/local/lib/python3.11/dist-packages/IPython/core/pylabtools.py:151: UserWarning: Glyph 44867 (\\N{HANGUL SYLLABLE GGOC}) missing from font(s) DejaVu Sans.\n",
            "  fig.canvas.print_figure(bytes_io, **kw)\n",
            "/usr/local/lib/python3.11/dist-packages/IPython/core/pylabtools.py:151: UserWarning: Glyph 51086 (\\N{HANGUL SYLLABLE IP}) missing from font(s) DejaVu Sans.\n",
            "  fig.canvas.print_figure(bytes_io, **kw)\n",
            "/usr/local/lib/python3.11/dist-packages/IPython/core/pylabtools.py:151: UserWarning: Glyph 45320 (\\N{HANGUL SYLLABLE NEO}) missing from font(s) DejaVu Sans.\n",
            "  fig.canvas.print_figure(bytes_io, **kw)\n",
            "/usr/local/lib/python3.11/dist-packages/IPython/core/pylabtools.py:151: UserWarning: Glyph 48708 (\\N{HANGUL SYLLABLE BI}) missing from font(s) DejaVu Sans.\n",
            "  fig.canvas.print_figure(bytes_io, **kw)\n",
            "/usr/local/lib/python3.11/dist-packages/IPython/core/pylabtools.py:151: UserWarning: Glyph 48531 (\\N{HANGUL SYLLABLE BUS}) missing from font(s) DejaVu Sans.\n",
            "  fig.canvas.print_figure(bytes_io, **kw)\n",
            "/usr/local/lib/python3.11/dist-packages/IPython/core/pylabtools.py:151: UserWarning: Glyph 51333 (\\N{HANGUL SYLLABLE JONG}) missing from font(s) DejaVu Sans.\n",
            "  fig.canvas.print_figure(bytes_io, **kw)\n",
            "/usr/local/lib/python3.11/dist-packages/IPython/core/pylabtools.py:151: UserWarning: Glyph 47448 (\\N{HANGUL SYLLABLE RYU}) missing from font(s) DejaVu Sans.\n",
            "  fig.canvas.print_figure(bytes_io, **kw)\n",
            "/usr/local/lib/python3.11/dist-packages/IPython/core/pylabtools.py:151: UserWarning: Glyph 48324 (\\N{HANGUL SYLLABLE BYEOL}) missing from font(s) DejaVu Sans.\n",
            "  fig.canvas.print_figure(bytes_io, **kw)\n",
            "/usr/local/lib/python3.11/dist-packages/IPython/core/pylabtools.py:151: UserWarning: Glyph 48516 (\\N{HANGUL SYLLABLE BUN}) missing from font(s) DejaVu Sans.\n",
            "  fig.canvas.print_figure(bytes_io, **kw)\n",
            "/usr/local/lib/python3.11/dist-packages/IPython/core/pylabtools.py:151: UserWarning: Glyph 54252 (\\N{HANGUL SYLLABLE PO}) missing from font(s) DejaVu Sans.\n",
            "  fig.canvas.print_figure(bytes_io, **kw)\n",
            "/usr/local/lib/python3.11/dist-packages/IPython/core/pylabtools.py:151: UserWarning: Glyph 48149 (\\N{HANGUL SYLLABLE BAG}) missing from font(s) DejaVu Sans.\n",
            "  fig.canvas.print_figure(bytes_io, **kw)\n",
            "/usr/local/lib/python3.11/dist-packages/IPython/core/pylabtools.py:151: UserWarning: Glyph 49828 (\\N{HANGUL SYLLABLE SEU}) missing from font(s) DejaVu Sans.\n",
            "  fig.canvas.print_figure(bytes_io, **kw)\n",
            "/usr/local/lib/python3.11/dist-packages/IPython/core/pylabtools.py:151: UserWarning: Glyph 54540 (\\N{HANGUL SYLLABLE PEUL}) missing from font(s) DejaVu Sans.\n",
            "  fig.canvas.print_figure(bytes_io, **kw)\n",
            "/usr/local/lib/python3.11/dist-packages/IPython/core/pylabtools.py:151: UserWarning: Glyph 47215 (\\N{HANGUL SYLLABLE ROS}) missing from font(s) DejaVu Sans.\n",
            "  fig.canvas.print_figure(bytes_io, **kw)\n"
          ]
        },
        {
          "output_type": "display_data",
          "data": {
            "text/plain": [
              "<Figure size 640x480 with 1 Axes>"
            ],
            "image/png": "[encoded data removed]"
          },
          "metadata": {}
        },
        {
          "output_type": "display_data",
          "data": {
            "text/plain": [
              "<Figure size 800x600 with 0 Axes>"
            ]
          },
          "metadata": {}
        },
        {
          "output_type": "stream",
          "name": "stderr",
          "text": [
            "/usr/local/lib/python3.11/dist-packages/IPython/core/pylabtools.py:151: UserWarning: Glyph 44867 (\\N{HANGUL SYLLABLE GGOC}) missing from font(s) DejaVu Sans.\n",
            "  fig.canvas.print_figure(bytes_io, **kw)\n",
            "/usr/local/lib/python3.11/dist-packages/IPython/core/pylabtools.py:151: UserWarning: Glyph 48155 (\\N{HANGUL SYLLABLE BAD}) missing from font(s) DejaVu Sans.\n",
            "  fig.canvas.print_figure(bytes_io, **kw)\n",
            "/usr/local/lib/python3.11/dist-packages/IPython/core/pylabtools.py:151: UserWarning: Glyph 52840 (\\N{HANGUL SYLLABLE CIM}) missing from font(s) DejaVu Sans.\n",
            "  fig.canvas.print_figure(bytes_io, **kw)\n",
            "/usr/local/lib/python3.11/dist-packages/IPython/core/pylabtools.py:151: UserWarning: Glyph 44600 (\\N{HANGUL SYLLABLE GIL}) missing from font(s) DejaVu Sans.\n",
            "  fig.canvas.print_figure(bytes_io, **kw)\n",
            "/usr/local/lib/python3.11/dist-packages/IPython/core/pylabtools.py:151: UserWarning: Glyph 51060 (\\N{HANGUL SYLLABLE I}) missing from font(s) DejaVu Sans.\n",
            "  fig.canvas.print_figure(bytes_io, **kw)\n",
            "/usr/local/lib/python3.11/dist-packages/IPython/core/pylabtools.py:151: UserWarning: Glyph 48531 (\\N{HANGUL SYLLABLE BUS}) missing from font(s) DejaVu Sans.\n",
            "  fig.canvas.print_figure(bytes_io, **kw)\n",
            "/usr/local/lib/python3.11/dist-packages/IPython/core/pylabtools.py:151: UserWarning: Glyph 51333 (\\N{HANGUL SYLLABLE JONG}) missing from font(s) DejaVu Sans.\n",
            "  fig.canvas.print_figure(bytes_io, **kw)\n",
            "/usr/local/lib/python3.11/dist-packages/IPython/core/pylabtools.py:151: UserWarning: Glyph 47448 (\\N{HANGUL SYLLABLE RYU}) missing from font(s) DejaVu Sans.\n",
            "  fig.canvas.print_figure(bytes_io, **kw)\n",
            "/usr/local/lib/python3.11/dist-packages/IPython/core/pylabtools.py:151: UserWarning: Glyph 48324 (\\N{HANGUL SYLLABLE BYEOL}) missing from font(s) DejaVu Sans.\n",
            "  fig.canvas.print_figure(bytes_io, **kw)\n",
            "/usr/local/lib/python3.11/dist-packages/IPython/core/pylabtools.py:151: UserWarning: Glyph 48516 (\\N{HANGUL SYLLABLE BUN}) missing from font(s) DejaVu Sans.\n",
            "  fig.canvas.print_figure(bytes_io, **kw)\n",
            "/usr/local/lib/python3.11/dist-packages/IPython/core/pylabtools.py:151: UserWarning: Glyph 54252 (\\N{HANGUL SYLLABLE PO}) missing from font(s) DejaVu Sans.\n",
            "  fig.canvas.print_figure(bytes_io, **kw)\n",
            "/usr/local/lib/python3.11/dist-packages/IPython/core/pylabtools.py:151: UserWarning: Glyph 48149 (\\N{HANGUL SYLLABLE BAG}) missing from font(s) DejaVu Sans.\n",
            "  fig.canvas.print_figure(bytes_io, **kw)\n",
            "/usr/local/lib/python3.11/dist-packages/IPython/core/pylabtools.py:151: UserWarning: Glyph 49828 (\\N{HANGUL SYLLABLE SEU}) missing from font(s) DejaVu Sans.\n",
            "  fig.canvas.print_figure(bytes_io, **kw)\n",
            "/usr/local/lib/python3.11/dist-packages/IPython/core/pylabtools.py:151: UserWarning: Glyph 54540 (\\N{HANGUL SYLLABLE PEUL}) missing from font(s) DejaVu Sans.\n",
            "  fig.canvas.print_figure(bytes_io, **kw)\n",
            "/usr/local/lib/python3.11/dist-packages/IPython/core/pylabtools.py:151: UserWarning: Glyph 47215 (\\N{HANGUL SYLLABLE ROS}) missing from font(s) DejaVu Sans.\n",
            "  fig.canvas.print_figure(bytes_io, **kw)\n"
          ]
        },
        {
          "output_type": "display_data",
          "data": {
            "text/plain": [
              "<Figure size 640x480 with 1 Axes>"
            ],
            "image/png": "[encoded data removed]"
          },
          "metadata": {}
        },
        {
          "output_type": "display_data",
          "data": {
            "text/plain": [
              "<Figure size 800x600 with 0 Axes>"
            ]
          },
          "metadata": {}
        },
        {
          "output_type": "stream",
          "name": "stderr",
          "text": [
            "/usr/local/lib/python3.11/dist-packages/IPython/core/pylabtools.py:151: UserWarning: Glyph 44867 (\\N{HANGUL SYLLABLE GGOC}) missing from font(s) DejaVu Sans.\n",
            "  fig.canvas.print_figure(bytes_io, **kw)\n",
            "/usr/local/lib/python3.11/dist-packages/IPython/core/pylabtools.py:151: UserWarning: Glyph 48155 (\\N{HANGUL SYLLABLE BAD}) missing from font(s) DejaVu Sans.\n",
            "  fig.canvas.print_figure(bytes_io, **kw)\n",
            "/usr/local/lib/python3.11/dist-packages/IPython/core/pylabtools.py:151: UserWarning: Glyph 52840 (\\N{HANGUL SYLLABLE CIM}) missing from font(s) DejaVu Sans.\n",
            "  fig.canvas.print_figure(bytes_io, **kw)\n",
            "/usr/local/lib/python3.11/dist-packages/IPython/core/pylabtools.py:151: UserWarning: Glyph 45320 (\\N{HANGUL SYLLABLE NEO}) missing from font(s) DejaVu Sans.\n",
            "  fig.canvas.print_figure(bytes_io, **kw)\n",
            "/usr/local/lib/python3.11/dist-packages/IPython/core/pylabtools.py:151: UserWarning: Glyph 48708 (\\N{HANGUL SYLLABLE BI}) missing from font(s) DejaVu Sans.\n",
            "  fig.canvas.print_figure(bytes_io, **kw)\n",
            "/usr/local/lib/python3.11/dist-packages/IPython/core/pylabtools.py:151: UserWarning: Glyph 48531 (\\N{HANGUL SYLLABLE BUS}) missing from font(s) DejaVu Sans.\n",
            "  fig.canvas.print_figure(bytes_io, **kw)\n",
            "/usr/local/lib/python3.11/dist-packages/IPython/core/pylabtools.py:151: UserWarning: Glyph 51333 (\\N{HANGUL SYLLABLE JONG}) missing from font(s) DejaVu Sans.\n",
            "  fig.canvas.print_figure(bytes_io, **kw)\n",
            "/usr/local/lib/python3.11/dist-packages/IPython/core/pylabtools.py:151: UserWarning: Glyph 47448 (\\N{HANGUL SYLLABLE RYU}) missing from font(s) DejaVu Sans.\n",
            "  fig.canvas.print_figure(bytes_io, **kw)\n",
            "/usr/local/lib/python3.11/dist-packages/IPython/core/pylabtools.py:151: UserWarning: Glyph 48324 (\\N{HANGUL SYLLABLE BYEOL}) missing from font(s) DejaVu Sans.\n",
            "  fig.canvas.print_figure(bytes_io, **kw)\n",
            "/usr/local/lib/python3.11/dist-packages/IPython/core/pylabtools.py:151: UserWarning: Glyph 48516 (\\N{HANGUL SYLLABLE BUN}) missing from font(s) DejaVu Sans.\n",
            "  fig.canvas.print_figure(bytes_io, **kw)\n",
            "/usr/local/lib/python3.11/dist-packages/IPython/core/pylabtools.py:151: UserWarning: Glyph 54252 (\\N{HANGUL SYLLABLE PO}) missing from font(s) DejaVu Sans.\n",
            "  fig.canvas.print_figure(bytes_io, **kw)\n",
            "/usr/local/lib/python3.11/dist-packages/IPython/core/pylabtools.py:151: UserWarning: Glyph 48149 (\\N{HANGUL SYLLABLE BAG}) missing from font(s) DejaVu Sans.\n",
            "  fig.canvas.print_figure(bytes_io, **kw)\n",
            "/usr/local/lib/python3.11/dist-packages/IPython/core/pylabtools.py:151: UserWarning: Glyph 49828 (\\N{HANGUL SYLLABLE SEU}) missing from font(s) DejaVu Sans.\n",
            "  fig.canvas.print_figure(bytes_io, **kw)\n",
            "/usr/local/lib/python3.11/dist-packages/IPython/core/pylabtools.py:151: UserWarning: Glyph 54540 (\\N{HANGUL SYLLABLE PEUL}) missing from font(s) DejaVu Sans.\n",
            "  fig.canvas.print_figure(bytes_io, **kw)\n",
            "/usr/local/lib/python3.11/dist-packages/IPython/core/pylabtools.py:151: UserWarning: Glyph 47215 (\\N{HANGUL SYLLABLE ROS}) missing from font(s) DejaVu Sans.\n",
            "  fig.canvas.print_figure(bytes_io, **kw)\n"
          ]
        },
        {
          "output_type": "display_data",
          "data": {
            "text/plain": [
              "<Figure size 640x480 with 1 Axes>"
            ],
            "image/png": "[encoded data removed]"
          },
          "metadata": {}
        },
        {
          "output_type": "stream",
          "name": "stdout",
          "text": [
            "\n",
            "그래프를 보고 다음을 관찰하세요:\n",
            "- 박스(Box)는 데이터의 중간 50% 범위(IQR)를 나타냅니다. 박스가 길수록 데이터의 중간 부분이 넓게 퍼져있다는 뜻입니다.\n",
            "- 박스 안의 선은 중앙값(Median)입니다.\n",
            "- 박스에서 위아래로 뻗은 선(Whisker)은 이상치가 아닌 데이터의 일반적인 범위를 나타냅니다.\n",
            "- Whisper 바깥에 점으로 표시된 데이터는 이상치(Outlier)일 가능성이 있는 값입니다.\n",
            "\n",
            "각 그래프에서 박스의 길이와 점으로 표시된 이상치를 찾아보세요.\n"
          ]
        }
      ]
    },
    {
      "source": [
        "# 데이터를 다루기 위한 pandas 라이브러리 불러오기\n",
        "import pandas\n",
        "\n",
        "# 그래프를 그리기 위한 matplotlib.pyplot 라이브러리 불러오기\n",
        "# 보통 plt라는 별명으로 사용합니다.\n",
        "import matplotlib.pyplot as plt\n",
        "\n",
        "# 붓꽃 데이터를 가져오기 위한 scikit-learn 라이브러리 불러오기\n",
        "# 만약 이 라이브러리가 설치되어 있지 않다면 아래 명령어를 실행해주세요.\n",
        "# !pip install scikit-learn\n",
        "from sklearn.datasets import load_iris\n",
        "\n",
        "# scikit-learn에서 붓꽃 데이터 불러오기\n",
        "붓꽃데이터_원래형태 = load_iris()\n",
        "\n",
        "# 불러온 붓꽃 데이터를 pandas 데이터프레임 형태로 만들기\n",
        "붓꽃_df = pandas.DataFrame(data=붓꽃데이터_원래형태.data, columns=붓꽃데이터_원래형태.feature_names)\n",
        "\n",
        "# 붓꽃의 종류 정보('species')를 데이터프레임에 추가하기\n",
        "붓꽃_df['종류'] = 붓꽃데이터_원래형태.target\n",
        "붓꽃_df['종류'] = 붓꽃_df['종류'].map(lambda x: 붓꽃데이터_원래형태.target_names[x])\n",
        "\n",
        "#-----------------------------------------------------------\n",
        "# 문제 14: 박스플롯으로 분포 비교하기\n",
        "\n",
        "# 각 측정값(열)별로 붓꽃 종류별 박스플롯을 그립니다.\n",
        "\n",
        "# 'petal length (cm)' (꽃잎 길이) 종류별 박스플롯\n",
        "plt.figure(figsize=(8, 6)) # 그래프 크기 설정\n",
        "# 박스플롯은 특정 열을 y축 데이터로, 다른 열(범주형)을 그룹 기준으로 그립니다.\n",
        "붓꽃_df.boxplot(column='petal length (cm)', by='종류')\n",
        "\n",
        "plt.title('붓꽃 종류별 꽃잎 길이 분포 (박스플롯)')\n",
        "plt.suptitle('') # boxplot by 옵션 사용 시 자동으로 생기는 상위 제목 제거\n",
        "plt.xlabel('붓꽃 종류')\n",
        "plt.ylabel('꽃잎 길이 (cm)')\n",
        "plt.show()\n",
        "\n",
        "\n",
        "# 'petal width (cm)' (꽃잎 너비) 종류별 박스플롯\n",
        "plt.figure(figsize=(8, 6))\n",
        "붓꽃_df.boxplot(column='petal width (cm)', by='종류')\n",
        "\n",
        "plt.title('붓꽃 종류별 꽃잎 너비 분포 (박스플롯)')\n",
        "plt.suptitle('')\n",
        "plt.xlabel('붓꽃 종류')\n",
        "plt.ylabel('꽃잎 너비 (cm)')\n",
        "plt.show()\n",
        "\n",
        "# 'sepal length (cm)' (꽃받침 길이) 종류별 박스플롯\n",
        "plt.figure(figsize=(8, 6))\n",
        "붓꽃_df.boxplot(column='sepal length (cm)', by='종류')\n",
        "\n",
        "plt.title('붓꽃 종류별 꽃받침 길이 분포 (박스플롯)')\n",
        "plt.suptitle('')\n",
        "plt.xlabel('붓꽃 종류')\n",
        "plt.ylabel('꽃받침 길이 (cm)')\n",
        "plt.show()\n",
        "\n",
        "# 'sepal width (cm)' (꽃받침 너비) 종류별 박스플롯\n",
        "plt.figure(figsize=(8, 6))\n",
        "붓꽃_df.boxplot(column='sepal width (cm)', by='종류')\n",
        "\n",
        "plt.title('붓꽃 종류별 꽃받침 너비 분포 (박스플롯)')\n",
        "plt.suptitle('')\n",
        "plt.xlabel('붓꽃 종류')\n",
        "plt.ylabel('꽃받침 너비 (cm)')\n",
        "plt.show()\n",
        "\n",
        "\n",
        "# 그래프를 보고 다음을 관찰하세요:\n",
        "# - 박스의 길이가 길수록 (IQR 범위가 넓을수록) 데이터의 분포 범위가 넓다는 뜻입니다.\n",
        "#   어떤 종류의 어떤 측정값 박스가 가장 길어 보이나요?\n",
        "# - 박스 바깥에 점으로 표시된 데이터가 있나요? 있다면 그것이 이상치입니다.\n",
        "#   어떤 그래프에 이상치가 나타나나요? 어떤 종류에서 나타나나요?\n",
        "\n",
        "print(\"\\n그래프를 보고 다음을 관찰하세요:\")\n",
        "print(\"- 박스(Box)는 데이터의 중간 50% 범위(IQR)를 나타냅니다. 박스가 길수록 데이터의 중간 부분이 넓게 퍼져있다는 뜻입니다.\")\n",
        "print(\"- 박스 안의 선은 중앙값(Median)입니다.\")\n",
        "print(\"- 박스에서 위아래로 뻗은 선(Whisker)은 이상치가 아닌 데이터의 일반적인 범위를 나타냅니다.\")\n",
        "print(\"- Whisper 바깥에 점으로 표시된 데이터는 이상치(Outlier)일 가능성이 있는 값입니다.\")\n",
        "print(\"\\n각 그래프에서 박스의 길이와 점으로 표시된 이상치를 찾아보세요.\")"
      ],
      "cell_type": "code",
      "metadata": {
        "colab": {
          "base_uri": "https://localhost:8080/",
          "height": 1000
        },
        "id": "fw7iAHvFD7nD",
        "outputId": "298add38-38db-41c7-eade-2092193294e7"
      },
      "execution_count": 22,
      "outputs": [
        {
          "output_type": "display_data",
          "data": {
            "text/plain": [
              "<Figure size 800x600 with 0 Axes>"
            ]
          },
          "metadata": {}
        },
        {
          "output_type": "stream",
          "name": "stderr",
          "text": [
            "/usr/local/lib/python3.11/dist-packages/IPython/core/pylabtools.py:151: UserWarning: Glyph 44867 (\\N{HANGUL SYLLABLE GGOC}) missing from font(s) DejaVu Sans.\n",
            "  fig.canvas.print_figure(bytes_io, **kw)\n",
            "/usr/local/lib/python3.11/dist-packages/IPython/core/pylabtools.py:151: UserWarning: Glyph 51086 (\\N{HANGUL SYLLABLE IP}) missing from font(s) DejaVu Sans.\n",
            "  fig.canvas.print_figure(bytes_io, **kw)\n",
            "/usr/local/lib/python3.11/dist-packages/IPython/core/pylabtools.py:151: UserWarning: Glyph 44600 (\\N{HANGUL SYLLABLE GIL}) missing from font(s) DejaVu Sans.\n",
            "  fig.canvas.print_figure(bytes_io, **kw)\n",
            "/usr/local/lib/python3.11/dist-packages/IPython/core/pylabtools.py:151: UserWarning: Glyph 51060 (\\N{HANGUL SYLLABLE I}) missing from font(s) DejaVu Sans.\n",
            "  fig.canvas.print_figure(bytes_io, **kw)\n",
            "/usr/local/lib/python3.11/dist-packages/IPython/core/pylabtools.py:151: UserWarning: Glyph 48531 (\\N{HANGUL SYLLABLE BUS}) missing from font(s) DejaVu Sans.\n",
            "  fig.canvas.print_figure(bytes_io, **kw)\n",
            "/usr/local/lib/python3.11/dist-packages/IPython/core/pylabtools.py:151: UserWarning: Glyph 51333 (\\N{HANGUL SYLLABLE JONG}) missing from font(s) DejaVu Sans.\n",
            "  fig.canvas.print_figure(bytes_io, **kw)\n",
            "/usr/local/lib/python3.11/dist-packages/IPython/core/pylabtools.py:151: UserWarning: Glyph 47448 (\\N{HANGUL SYLLABLE RYU}) missing from font(s) DejaVu Sans.\n",
            "  fig.canvas.print_figure(bytes_io, **kw)\n",
            "/usr/local/lib/python3.11/dist-packages/IPython/core/pylabtools.py:151: UserWarning: Glyph 48324 (\\N{HANGUL SYLLABLE BYEOL}) missing from font(s) DejaVu Sans.\n",
            "  fig.canvas.print_figure(bytes_io, **kw)\n",
            "/usr/local/lib/python3.11/dist-packages/IPython/core/pylabtools.py:151: UserWarning: Glyph 48516 (\\N{HANGUL SYLLABLE BUN}) missing from font(s) DejaVu Sans.\n",
            "  fig.canvas.print_figure(bytes_io, **kw)\n",
            "/usr/local/lib/python3.11/dist-packages/IPython/core/pylabtools.py:151: UserWarning: Glyph 54252 (\\N{HANGUL SYLLABLE PO}) missing from font(s) DejaVu Sans.\n",
            "  fig.canvas.print_figure(bytes_io, **kw)\n",
            "/usr/local/lib/python3.11/dist-packages/IPython/core/pylabtools.py:151: UserWarning: Glyph 48149 (\\N{HANGUL SYLLABLE BAG}) missing from font(s) DejaVu Sans.\n",
            "  fig.canvas.print_figure(bytes_io, **kw)\n",
            "/usr/local/lib/python3.11/dist-packages/IPython/core/pylabtools.py:151: UserWarning: Glyph 49828 (\\N{HANGUL SYLLABLE SEU}) missing from font(s) DejaVu Sans.\n",
            "  fig.canvas.print_figure(bytes_io, **kw)\n",
            "/usr/local/lib/python3.11/dist-packages/IPython/core/pylabtools.py:151: UserWarning: Glyph 54540 (\\N{HANGUL SYLLABLE PEUL}) missing from font(s) DejaVu Sans.\n",
            "  fig.canvas.print_figure(bytes_io, **kw)\n",
            "/usr/local/lib/python3.11/dist-packages/IPython/core/pylabtools.py:151: UserWarning: Glyph 47215 (\\N{HANGUL SYLLABLE ROS}) missing from font(s) DejaVu Sans.\n",
            "  fig.canvas.print_figure(bytes_io, **kw)\n"
          ]
        },
        {
          "output_type": "display_data",
          "data": {
            "text/plain": [
              "<Figure size 640x480 with 1 Axes>"
            ],
            "image/png": "[encoded data removed]"
          },
          "metadata": {}
        },
        {
          "output_type": "display_data",
          "data": {
            "text/plain": [
              "<Figure size 800x600 with 0 Axes>"
            ]
          },
          "metadata": {}
        },
        {
          "output_type": "stream",
          "name": "stderr",
          "text": [
            "/usr/local/lib/python3.11/dist-packages/IPython/core/pylabtools.py:151: UserWarning: Glyph 44867 (\\N{HANGUL SYLLABLE GGOC}) missing from font(s) DejaVu Sans.\n",
            "  fig.canvas.print_figure(bytes_io, **kw)\n",
            "/usr/local/lib/python3.11/dist-packages/IPython/core/pylabtools.py:151: UserWarning: Glyph 51086 (\\N{HANGUL SYLLABLE IP}) missing from font(s) DejaVu Sans.\n",
            "  fig.canvas.print_figure(bytes_io, **kw)\n",
            "/usr/local/lib/python3.11/dist-packages/IPython/core/pylabtools.py:151: UserWarning: Glyph 45320 (\\N{HANGUL SYLLABLE NEO}) missing from font(s) DejaVu Sans.\n",
            "  fig.canvas.print_figure(bytes_io, **kw)\n",
            "/usr/local/lib/python3.11/dist-packages/IPython/core/pylabtools.py:151: UserWarning: Glyph 48708 (\\N{HANGUL SYLLABLE BI}) missing from font(s) DejaVu Sans.\n",
            "  fig.canvas.print_figure(bytes_io, **kw)\n",
            "/usr/local/lib/python3.11/dist-packages/IPython/core/pylabtools.py:151: UserWarning: Glyph 48531 (\\N{HANGUL SYLLABLE BUS}) missing from font(s) DejaVu Sans.\n",
            "  fig.canvas.print_figure(bytes_io, **kw)\n",
            "/usr/local/lib/python3.11/dist-packages/IPython/core/pylabtools.py:151: UserWarning: Glyph 51333 (\\N{HANGUL SYLLABLE JONG}) missing from font(s) DejaVu Sans.\n",
            "  fig.canvas.print_figure(bytes_io, **kw)\n",
            "/usr/local/lib/python3.11/dist-packages/IPython/core/pylabtools.py:151: UserWarning: Glyph 47448 (\\N{HANGUL SYLLABLE RYU}) missing from font(s) DejaVu Sans.\n",
            "  fig.canvas.print_figure(bytes_io, **kw)\n",
            "/usr/local/lib/python3.11/dist-packages/IPython/core/pylabtools.py:151: UserWarning: Glyph 48324 (\\N{HANGUL SYLLABLE BYEOL}) missing from font(s) DejaVu Sans.\n",
            "  fig.canvas.print_figure(bytes_io, **kw)\n",
            "/usr/local/lib/python3.11/dist-packages/IPython/core/pylabtools.py:151: UserWarning: Glyph 48516 (\\N{HANGUL SYLLABLE BUN}) missing from font(s) DejaVu Sans.\n",
            "  fig.canvas.print_figure(bytes_io, **kw)\n",
            "/usr/local/lib/python3.11/dist-packages/IPython/core/pylabtools.py:151: UserWarning: Glyph 54252 (\\N{HANGUL SYLLABLE PO}) missing from font(s) DejaVu Sans.\n",
            "  fig.canvas.print_figure(bytes_io, **kw)\n",
            "/usr/local/lib/python3.11/dist-packages/IPython/core/pylabtools.py:151: UserWarning: Glyph 48149 (\\N{HANGUL SYLLABLE BAG}) missing from font(s) DejaVu Sans.\n",
            "  fig.canvas.print_figure(bytes_io, **kw)\n",
            "/usr/local/lib/python3.11/dist-packages/IPython/core/pylabtools.py:151: UserWarning: Glyph 49828 (\\N{HANGUL SYLLABLE SEU}) missing from font(s) DejaVu Sans.\n",
            "  fig.canvas.print_figure(bytes_io, **kw)\n",
            "/usr/local/lib/python3.11/dist-packages/IPython/core/pylabtools.py:151: UserWarning: Glyph 54540 (\\N{HANGUL SYLLABLE PEUL}) missing from font(s) DejaVu Sans.\n",
            "  fig.canvas.print_figure(bytes_io, **kw)\n",
            "/usr/local/lib/python3.11/dist-packages/IPython/core/pylabtools.py:151: UserWarning: Glyph 47215 (\\N{HANGUL SYLLABLE ROS}) missing from font(s) DejaVu Sans.\n",
            "  fig.canvas.print_figure(bytes_io, **kw)\n"
          ]
        },
        {
          "output_type": "display_data",
          "data": {
            "text/plain": [
              "<Figure size 640x480 with 1 Axes>"
            ],
            "image/png": "[encoded data removed]"
          },
          "metadata": {}
        },
        {
          "output_type": "display_data",
          "data": {
            "text/plain": [
              "<Figure size 800x600 with 0 Axes>"
            ]
          },
          "metadata": {}
        },
        {
          "output_type": "stream",
          "name": "stderr",
          "text": [
            "/usr/local/lib/python3.11/dist-packages/IPython/core/pylabtools.py:151: UserWarning: Glyph 44867 (\\N{HANGUL SYLLABLE GGOC}) missing from font(s) DejaVu Sans.\n",
            "  fig.canvas.print_figure(bytes_io, **kw)\n",
            "/usr/local/lib/python3.11/dist-packages/IPython/core/pylabtools.py:151: UserWarning: Glyph 48155 (\\N{HANGUL SYLLABLE BAD}) missing from font(s) DejaVu Sans.\n",
            "  fig.canvas.print_figure(bytes_io, **kw)\n",
            "/usr/local/lib/python3.11/dist-packages/IPython/core/pylabtools.py:151: UserWarning: Glyph 52840 (\\N{HANGUL SYLLABLE CIM}) missing from font(s) DejaVu Sans.\n",
            "  fig.canvas.print_figure(bytes_io, **kw)\n",
            "/usr/local/lib/python3.11/dist-packages/IPython/core/pylabtools.py:151: UserWarning: Glyph 44600 (\\N{HANGUL SYLLABLE GIL}) missing from font(s) DejaVu Sans.\n",
            "  fig.canvas.print_figure(bytes_io, **kw)\n",
            "/usr/local/lib/python3.11/dist-packages/IPython/core/pylabtools.py:151: UserWarning: Glyph 51060 (\\N{HANGUL SYLLABLE I}) missing from font(s) DejaVu Sans.\n",
            "  fig.canvas.print_figure(bytes_io, **kw)\n",
            "/usr/local/lib/python3.11/dist-packages/IPython/core/pylabtools.py:151: UserWarning: Glyph 48531 (\\N{HANGUL SYLLABLE BUS}) missing from font(s) DejaVu Sans.\n",
            "  fig.canvas.print_figure(bytes_io, **kw)\n",
            "/usr/local/lib/python3.11/dist-packages/IPython/core/pylabtools.py:151: UserWarning: Glyph 51333 (\\N{HANGUL SYLLABLE JONG}) missing from font(s) DejaVu Sans.\n",
            "  fig.canvas.print_figure(bytes_io, **kw)\n",
            "/usr/local/lib/python3.11/dist-packages/IPython/core/pylabtools.py:151: UserWarning: Glyph 47448 (\\N{HANGUL SYLLABLE RYU}) missing from font(s) DejaVu Sans.\n",
            "  fig.canvas.print_figure(bytes_io, **kw)\n",
            "/usr/local/lib/python3.11/dist-packages/IPython/core/pylabtools.py:151: UserWarning: Glyph 48324 (\\N{HANGUL SYLLABLE BYEOL}) missing from font(s) DejaVu Sans.\n",
            "  fig.canvas.print_figure(bytes_io, **kw)\n",
            "/usr/local/lib/python3.11/dist-packages/IPython/core/pylabtools.py:151: UserWarning: Glyph 48516 (\\N{HANGUL SYLLABLE BUN}) missing from font(s) DejaVu Sans.\n",
            "  fig.canvas.print_figure(bytes_io, **kw)\n",
            "/usr/local/lib/python3.11/dist-packages/IPython/core/pylabtools.py:151: UserWarning: Glyph 54252 (\\N{HANGUL SYLLABLE PO}) missing from font(s) DejaVu Sans.\n",
            "  fig.canvas.print_figure(bytes_io, **kw)\n",
            "/usr/local/lib/python3.11/dist-packages/IPython/core/pylabtools.py:151: UserWarning: Glyph 48149 (\\N{HANGUL SYLLABLE BAG}) missing from font(s) DejaVu Sans.\n",
            "  fig.canvas.print_figure(bytes_io, **kw)\n",
            "/usr/local/lib/python3.11/dist-packages/IPython/core/pylabtools.py:151: UserWarning: Glyph 49828 (\\N{HANGUL SYLLABLE SEU}) missing from font(s) DejaVu Sans.\n",
            "  fig.canvas.print_figure(bytes_io, **kw)\n",
            "/usr/local/lib/python3.11/dist-packages/IPython/core/pylabtools.py:151: UserWarning: Glyph 54540 (\\N{HANGUL SYLLABLE PEUL}) missing from font(s) DejaVu Sans.\n",
            "  fig.canvas.print_figure(bytes_io, **kw)\n",
            "/usr/local/lib/python3.11/dist-packages/IPython/core/pylabtools.py:151: UserWarning: Glyph 47215 (\\N{HANGUL SYLLABLE ROS}) missing from font(s) DejaVu Sans.\n",
            "  fig.canvas.print_figure(bytes_io, **kw)\n"
          ]
        },
        {
          "output_type": "display_data",
          "data": {
            "text/plain": [
              "<Figure size 640x480 with 1 Axes>"
            ],
            "image/png": "[encoded data removed]"
          },
          "metadata": {}
        },
        {
          "output_type": "display_data",
          "data": {
            "text/plain": [
              "<Figure size 800x600 with 0 Axes>"
            ]
          },
          "metadata": {}
        },
        {
          "output_type": "stream",
          "name": "stderr",
          "text": [
            "/usr/local/lib/python3.11/dist-packages/IPython/core/pylabtools.py:151: UserWarning: Glyph 44867 (\\N{HANGUL SYLLABLE GGOC}) missing from font(s) DejaVu Sans.\n",
            "  fig.canvas.print_figure(bytes_io, **kw)\n",
            "/usr/local/lib/python3.11/dist-packages/IPython/core/pylabtools.py:151: UserWarning: Glyph 48155 (\\N{HANGUL SYLLABLE BAD}) missing from font(s) DejaVu Sans.\n",
            "  fig.canvas.print_figure(bytes_io, **kw)\n",
            "/usr/local/lib/python3.11/dist-packages/IPython/core/pylabtools.py:151: UserWarning: Glyph 52840 (\\N{HANGUL SYLLABLE CIM}) missing from font(s) DejaVu Sans.\n",
            "  fig.canvas.print_figure(bytes_io, **kw)\n",
            "/usr/local/lib/python3.11/dist-packages/IPython/core/pylabtools.py:151: UserWarning: Glyph 45320 (\\N{HANGUL SYLLABLE NEO}) missing from font(s) DejaVu Sans.\n",
            "  fig.canvas.print_figure(bytes_io, **kw)\n",
            "/usr/local/lib/python3.11/dist-packages/IPython/core/pylabtools.py:151: UserWarning: Glyph 48708 (\\N{HANGUL SYLLABLE BI}) missing from font(s) DejaVu Sans.\n",
            "  fig.canvas.print_figure(bytes_io, **kw)\n",
            "/usr/local/lib/python3.11/dist-packages/IPython/core/pylabtools.py:151: UserWarning: Glyph 48531 (\\N{HANGUL SYLLABLE BUS}) missing from font(s) DejaVu Sans.\n",
            "  fig.canvas.print_figure(bytes_io, **kw)\n",
            "/usr/local/lib/python3.11/dist-packages/IPython/core/pylabtools.py:151: UserWarning: Glyph 51333 (\\N{HANGUL SYLLABLE JONG}) missing from font(s) DejaVu Sans.\n",
            "  fig.canvas.print_figure(bytes_io, **kw)\n",
            "/usr/local/lib/python3.11/dist-packages/IPython/core/pylabtools.py:151: UserWarning: Glyph 47448 (\\N{HANGUL SYLLABLE RYU}) missing from font(s) DejaVu Sans.\n",
            "  fig.canvas.print_figure(bytes_io, **kw)\n",
            "/usr/local/lib/python3.11/dist-packages/IPython/core/pylabtools.py:151: UserWarning: Glyph 48324 (\\N{HANGUL SYLLABLE BYEOL}) missing from font(s) DejaVu Sans.\n",
            "  fig.canvas.print_figure(bytes_io, **kw)\n",
            "/usr/local/lib/python3.11/dist-packages/IPython/core/pylabtools.py:151: UserWarning: Glyph 48516 (\\N{HANGUL SYLLABLE BUN}) missing from font(s) DejaVu Sans.\n",
            "  fig.canvas.print_figure(bytes_io, **kw)\n",
            "/usr/local/lib/python3.11/dist-packages/IPython/core/pylabtools.py:151: UserWarning: Glyph 54252 (\\N{HANGUL SYLLABLE PO}) missing from font(s) DejaVu Sans.\n",
            "  fig.canvas.print_figure(bytes_io, **kw)\n",
            "/usr/local/lib/python3.11/dist-packages/IPython/core/pylabtools.py:151: UserWarning: Glyph 48149 (\\N{HANGUL SYLLABLE BAG}) missing from font(s) DejaVu Sans.\n",
            "  fig.canvas.print_figure(bytes_io, **kw)\n",
            "/usr/local/lib/python3.11/dist-packages/IPython/core/pylabtools.py:151: UserWarning: Glyph 49828 (\\N{HANGUL SYLLABLE SEU}) missing from font(s) DejaVu Sans.\n",
            "  fig.canvas.print_figure(bytes_io, **kw)\n",
            "/usr/local/lib/python3.11/dist-packages/IPython/core/pylabtools.py:151: UserWarning: Glyph 54540 (\\N{HANGUL SYLLABLE PEUL}) missing from font(s) DejaVu Sans.\n",
            "  fig.canvas.print_figure(bytes_io, **kw)\n",
            "/usr/local/lib/python3.11/dist-packages/IPython/core/pylabtools.py:151: UserWarning: Glyph 47215 (\\N{HANGUL SYLLABLE ROS}) missing from font(s) DejaVu Sans.\n",
            "  fig.canvas.print_figure(bytes_io, **kw)\n"
          ]
        },
        {
          "output_type": "display_data",
          "data": {
            "text/plain": [
              "<Figure size 640x480 with 1 Axes>"
            ],
            "image/png": "[encoded data removed]"
          },
          "metadata": {}
        },
        {
          "output_type": "stream",
          "name": "stdout",
          "text": [
            "\n",
            "그래프를 보고 다음을 관찰하세요:\n",
            "- 박스(Box)는 데이터의 중간 50% 범위(IQR)를 나타냅니다. 박스가 길수록 데이터의 중간 부분이 넓게 퍼져있다는 뜻입니다.\n",
            "- 박스 안의 선은 중앙값(Median)입니다.\n",
            "- 박스에서 위아래로 뻗은 선(Whisker)은 이상치가 아닌 데이터의 일반적인 범위를 나타냅니다.\n",
            "- Whisper 바깥에 점으로 표시된 데이터는 이상치(Outlier)일 가능성이 있는 값입니다.\n",
            "\n",
            "각 그래프에서 박스의 길이와 점으로 표시된 이상치를 찾아보세요.\n"
          ]
        }
      ]
    },
    {
      "source": [
        "# 데이터를 다루기 위한 pandas 라이브러리 불러오기\n",
        "import pandas\n",
        "\n",
        "# 붓꽃 데이터를 가져오기 위한 scikit-learn 라이브러리 불러오기\n",
        "# 만약 이 라이브러리가 설치되어 있지 않다면 아래 명령어를 실행해주세요.\n",
        "# !pip install scikit-learn\n",
        "from sklearn.datasets import load_iris\n",
        "\n",
        "# scikit-learn에서 붓꽃 데이터 불러오기\n",
        "붓꽃데이터_원래형태 = load_iris()\n",
        "\n",
        "# 불러온 붓꽃 데이터를 pandas 데이터프레임 형태로 만들기\n",
        "붓꽃_df = pandas.DataFrame(data=붓꽃데이터_원래형태.data, columns=붓꽃데이터_원래형태.feature_names)\n",
        "\n",
        "# 붓꽃의 종류 정보('species')를 데이터프레임에 추가하기\n",
        "붓꽃_df['종류'] = 붓꽃데이터_원래형태.target\n",
        "붓꽃_df['종류'] = 붓꽃_df['종류'].map(lambda x: 붓꽃데이터_원래형태.target_names[x])\n",
        "\n",
        "#-----------------------------------------------------------\n",
        "# 문제 15: 새로운 값 계산하기\n",
        "\n",
        "# '꽃받침 면적 (cm^2)' 열 새로 만들기\n",
        "# 꽃받침 길이 * 꽃받침 너비\n",
        "붓꽃_df['꽃받침 면적 (cm^2)'] = 붓꽃_df['sepal length (cm)'] * 붓꽃_df['sepal width (cm)']\n",
        "\n",
        "# '꽃잎 면적 (cm^2)' 열 새로 만들기\n",
        "# 꽃잎 길이 * 꽃잎 너비\n",
        "붓꽃_df['꽃잎 면적 (cm^2)'] = 붓꽃_df['petal length (cm)'] * 붓꽃_df['petal width (cm)']\n",
        "\n",
        "# 새로운 열이 잘 추가되었는지 확인 (처음 5개 행만 출력)\n",
        "print(\"--- 새로운 열 추가 후 데이터프레임 (처음 5개 행) ---\")\n",
        "print(붓꽃_df.head().to_markdown(index=False, numalign=\"left\", stralign=\"left\")) # to_markdown 사용, 인덱스 제거\n",
        "\n",
        "# 붓꽃 종류별로 데이터를 그룹화합니다.\n",
        "종류별_그룹 = 붓꽃_df.groupby('종류')\n",
        "\n",
        "# 그룹별로 새로 계산된 '꽃받침 면적'의 평균을 계산합니다.\n",
        "종류별_꽃받침_면적_평균 = 종류별_그룹['꽃받침 면적 (cm^2)'].mean()\n",
        "\n",
        "# 그룹별로 새로 계산된 '꽃잎 면적'의 평균을 계산합니다.\n",
        "종류별_꽃잎_면적_평균 = 종류별_그룹['꽃잎 면적 (cm^2)'].mean()\n",
        "\n",
        "# 계산 결과를 표로 정리합니다.\n",
        "평균_면적_비교_표 = pandas.DataFrame({\n",
        "    '꽃받침 면적 평균 (cm^2)': 종류별_꽃받침_면적_평균,\n",
        "    '꽃잎 면적 평균 (cm^2)': 종류별_꽃잎_면적_평균\n",
        "})\n",
        "\n",
        "# 표 출력\n",
        "print(\"\\n--- 붓꽃 종류별 평균 면적 비교 ---\")\n",
        "print(평균_면적_비교_표.to_markdown(numalign=\"left\", stralign=\"left\")) # to_markdown 사용\n",
        "# 데이터를 다루기 위한 pandas 라이브러리 불러오기\n",
        "import pandas\n",
        "\n",
        "# 붓꽃 데이터를 가져오기 위한 scikit-learn 라이브러리 불러오기\n",
        "# 만약 이 라이브러리가 설치되어 있지 않다면 아래 명령어를 실행해주세요.\n",
        "# !pip install scikit-learn\n",
        "from sklearn.datasets import load_iris\n",
        "\n",
        "# scikit-learn에서 붓꽃 데이터 불러오기\n",
        "붓꽃데이터_원래형태 = load_iris()\n",
        "\n",
        "# 불러온 붓꽃 데이터를 pandas 데이터프레임 형태로 만들기\n",
        "붓꽃_df = pandas.DataFrame(data=붓꽃데이터_원래형태.data, columns=붓꽃데이터_원래형태.feature_names)\n",
        "\n",
        "# 붓꽃의 종류 정보('species')를 데이터프레임에 추가하기\n",
        "붓꽃_df['종류'] = 붓꽃데이터_원래형태.target\n",
        "붓꽃_df['종류'] = 붓꽃_df['종류'].map(lambda x: 붓꽃데이터_원래형태.target_names[x])\n",
        "\n",
        "#-----------------------------------------------------------\n",
        "# 문제 15: 새로운 값 계산하기\n",
        "\n",
        "# '꽃받침 면적 (cm^2)' 열 새로 만들기\n",
        "# 꽃받침 길이 * 꽃받침 너비\n",
        "붓꽃_df['꽃받침 면적 (cm^2)'] = 붓꽃_df['sepal length (cm)'] * 붓꽃_df['sepal width (cm)']\n",
        "\n",
        "# '꽃잎 면적 (cm^2)' 열 새로 만들기\n",
        "# 꽃잎 길이 * 꽃잎 너비\n",
        "붓꽃_df['꽃잎 면적 (cm^2)'] = 붓꽃_df['petal length (cm)'] * 붓꽃_df['petal width (cm)']\n",
        "\n",
        "# 새로운 열이 잘 추가되었는지 확인 (처음 5개 행만 출력)\n",
        "print(\"--- 새로운 열 추가 후 데이터프레임 (처음 5개 행) ---\")\n",
        "print(붓꽃_df.head().to_markdown(index=False, numalign=\"left\", stralign=\"left\")) # to_markdown 사용, 인덱스 제거\n",
        "\n",
        "# 붓꽃 종류별로 데이터를 그룹화합니다.\n",
        "종류별_그룹 = 붓꽃_df.groupby('종류')\n",
        "\n",
        "# 그룹별로 새로 계산된 '꽃받침 면적'의 평균을 계산합니다.\n",
        "종류별_꽃받침_면적_평균 = 종류별_그룹['꽃받침 면적 (cm^2)'].mean()\n",
        "\n",
        "# 그룹별로 새로 계산된 '꽃잎 면적'의 평균을 계산합니다.\n",
        "종류별_꽃잎_면적_평균 = 종류별_그룹['꽃잎 면적 (cm^2)'].mean()\n",
        "\n",
        "# 계산 결과를 표로 정리합니다.\n",
        "평균_면적_비교_표 = pandas.DataFrame({\n",
        "    '꽃받침 면적 평균 (cm^2)': 종류별_꽃받침_면적_평균,\n",
        "    '꽃잎 면적 평균 (cm^2)': 종류별_꽃잎_면적_평균\n",
        "})\n",
        "\n",
        "# 표 출력\n",
        "print(\"\\n--- 붓꽃 종류별 평균 면적 비교 ---\")\n",
        "print(평균_면적_비교_표.to_markdown(numalign=\"left\", stralign=\"left\")) # to_markdown 사용\n",
        "\n",
        "# 어떤 종류가 꽃받침 면적이 가장 큰가요?\n",
        "가장_큰_꽃받침_면적_종류 = 평균_면적_비교_표['꽃받침 면적 평균 (cm^2)'].idxmax()"
      ],
      "cell_type": "code",
      "metadata": {
        "colab": {
          "base_uri": "https://localhost:8080/"
        },
        "id": "Zxk9QoubEHFd",
        "outputId": "373fea80-84e0-4fa2-e0db-04a41c15f6f8"
      },
      "execution_count": 24,
      "outputs": [
        {
          "output_type": "stream",
          "name": "stdout",
          "text": [
            "--- 새로운 열 추가 후 데이터프레임 (처음 5개 행) ---\n",
            "| sepal length (cm)   | sepal width (cm)   | petal length (cm)   | petal width (cm)   | 종류   | 꽃받침 면적 (cm^2)   | 꽃잎 면적 (cm^2)   |\n",
            "|:--------------------|:-------------------|:--------------------|:-------------------|:-------|:---------------------|:-------------------|\n",
            "| 5.1                 | 3.5                | 1.4                 | 0.2                | setosa | 17.85                | 0.28               |\n",
            "| 4.9                 | 3                  | 1.4                 | 0.2                | setosa | 14.7                 | 0.28               |\n",
            "| 4.7                 | 3.2                | 1.3                 | 0.2                | setosa | 15.04                | 0.26               |\n",
            "| 4.6                 | 3.1                | 1.5                 | 0.2                | setosa | 14.26                | 0.3                |\n",
            "| 5                   | 3.6                | 1.4                 | 0.2                | setosa | 18                   | 0.28               |\n",
            "\n",
            "--- 붓꽃 종류별 평균 면적 비교 ---\n",
            "| 종류       | 꽃받침 면적 평균 (cm^2)   | 꽃잎 면적 평균 (cm^2)   |\n",
            "|:-----------|:--------------------------|:------------------------|\n",
            "| setosa     | 17.2578                   | 0.3656                  |\n",
            "| versicolor | 16.5262                   | 5.7204                  |\n",
            "| virginica  | 19.6846                   | 11.2962                 |\n",
            "--- 새로운 열 추가 후 데이터프레임 (처음 5개 행) ---\n",
            "| sepal length (cm)   | sepal width (cm)   | petal length (cm)   | petal width (cm)   | 종류   | 꽃받침 면적 (cm^2)   | 꽃잎 면적 (cm^2)   |\n",
            "|:--------------------|:-------------------|:--------------------|:-------------------|:-------|:---------------------|:-------------------|\n",
            "| 5.1                 | 3.5                | 1.4                 | 0.2                | setosa | 17.85                | 0.28               |\n",
            "| 4.9                 | 3                  | 1.4                 | 0.2                | setosa | 14.7                 | 0.28               |\n",
            "| 4.7                 | 3.2                | 1.3                 | 0.2                | setosa | 15.04                | 0.26               |\n",
            "| 4.6                 | 3.1                | 1.5                 | 0.2                | setosa | 14.26                | 0.3                |\n",
            "| 5                   | 3.6                | 1.4                 | 0.2                | setosa | 18                   | 0.28               |\n",
            "\n",
            "--- 붓꽃 종류별 평균 면적 비교 ---\n",
            "| 종류       | 꽃받침 면적 평균 (cm^2)   | 꽃잎 면적 평균 (cm^2)   |\n",
            "|:-----------|:--------------------------|:------------------------|\n",
            "| setosa     | 17.2578                   | 0.3656                  |\n",
            "| versicolor | 16.5262                   | 5.7204                  |\n",
            "| virginica  | 19.6846                   | 11.2962                 |\n"
          ]
        }
      ]
    },
    {
      "source": [
        "# 데이터를 다루기 위한 pandas 라이브러리 불러오기\n",
        "import pandas\n",
        "\n",
        "# 붓꽃 데이터를 가져오기 위한 scikit-learn 라이브러리 불러오기\n",
        "# 만약 이 라이브러리가 설치되어 있지 않다면 아래 명령어를 실행해주세요.\n",
        "# !pip install scikit-learn\n",
        "from sklearn.datasets import load_iris\n",
        "\n",
        "# scikit-learn에서 붓꽃 데이터 불러오기\n",
        "붓꽃데이터_원래형태 = load_iris()\n",
        "\n",
        "# 불러온 붓꽃 데이터를 pandas 데이터프레임 형태로 만들기\n",
        "붓꽃_df = pandas.DataFrame(data=붓꽃데이터_원래형태.data, columns=붓꽃데이터_원래형태.feature_names)\n",
        "\n",
        "# 붓꽃의 종류 정보('species')를 데이터프레임에 추가하기\n",
        "붓꽃_df['종류'] = 붓꽃데이터_원래형태.target\n",
        "붓꽃_df['종류'] = 붓꽃_df['종류'].map(lambda x: 붓꽃데이터_원래형태.target_names[x])\n",
        "\n",
        "#-----------------------------------------------------------\n",
        "# 문제 16: 데이터 필터링\n",
        "\n",
        "# 조건 1: 꽃받침 너비가 3.0 이상\n",
        "조건1 = 붓꽃_df['sepal width (cm)'] >= 3.0\n",
        "\n",
        "# 조건 2: 꽃잎 너비가 1.5 이상\n",
        "조건2 = 붓꽃_df['petal width (cm)'] >= 1.5\n",
        "\n",
        "# 두 가지 조건을 모두 만족하는 데이터 필터링\n",
        "# 각 조건은 소괄호()로 묶고 '&' 기호로 연결합니다.\n",
        "필터링된_데이터 = 붓꽃_df[조건1 & 조건2]\n",
        "\n",
        "# 필터링된 데이터의 개수 확인\n",
        "필터링된_개수 = len(필터링된_데이터)\n",
        "print(f\"꽃받침 너비가 3.0 이상이고 꽃잎 너비가 1.5 이상인 데이터 개수: {필터링된_개수}개\")\n",
        "\n",
        "# 필터링된 데이터 자체를 출력 (처음 10개 행)\n",
        "print(\"\\n--- 필터링된 데이터 (처음 10개 행) ---\")\n",
        "if 필터링된_개수 > 0:\n",
        "    print(필터링된_데이터.head(10).to_markdown(index=False, numalign=\"left\", stralign=\"left\")) # to_markdown 사용, 인덱스 제거\n",
        "else:\n",
        "    print(\"조건을 만족하는 데이터가 없습니다.\")\n",
        "\n",
        "# 필터링된 데이터들이 주로 어떤 종류인지 확인\n",
        "# 필터링된 데이터의 '종류' 열에서 각 종류별 개수를 셉니다.\n",
        "print(\"\\n--- 필터링된 데이터의 종류별 개수 ---\")\n",
        "if 필터링된_개수 > 0:\n",
        "    종류별_개수_필터링됨 = 필터링된_데이터['종류'].value_counts()\n",
        "    print(종류별_개수_필터링됨)\n",
        "else:\n",
        "    print(\"조건을 만족하는 데이터가 없어 종류별 개수를 셀 수 없습니다.\")\n",
        "\n",
        "# 주로 어떤 종류인지 결론 내리기\n",
        "if 필터링된_개수 > 0:\n",
        "    주요_종류 = 종류별_개수_필터링됨.idxmax() # 개수가 가장 많은 종류의 이름\n",
        "    print(f\"\\n이 조건에 해당하는 데이터는 주로 '{주요_종류}' 종류인 것으로 보입니다.\")\n",
        "else:\n",
        "     print(\"\\n조건을 만족하는 데이터가 없습니다.\")"
      ],
      "cell_type": "code",
      "metadata": {
        "colab": {
          "base_uri": "https://localhost:8080/"
        },
        "id": "FhH92nDuET8s",
        "outputId": "348fb8c2-c5a4-4fba-982d-a824192da880"
      },
      "execution_count": 25,
      "outputs": [
        {
          "output_type": "stream",
          "name": "stdout",
          "text": [
            "꽃받침 너비가 3.0 이상이고 꽃잎 너비가 1.5 이상인 데이터 개수: 39개\n",
            "\n",
            "--- 필터링된 데이터 (처음 10개 행) ---\n",
            "| sepal length (cm)   | sepal width (cm)   | petal length (cm)   | petal width (cm)   | 종류       |\n",
            "|:--------------------|:-------------------|:--------------------|:-------------------|:-----------|\n",
            "| 6.4                 | 3.2                | 4.5                 | 1.5                | versicolor |\n",
            "| 6.9                 | 3.1                | 4.9                 | 1.5                | versicolor |\n",
            "| 6.3                 | 3.3                | 4.7                 | 1.6                | versicolor |\n",
            "| 5.9                 | 3                  | 4.2                 | 1.5                | versicolor |\n",
            "| 5.6                 | 3                  | 4.5                 | 1.5                | versicolor |\n",
            "| 5.9                 | 3.2                | 4.8                 | 1.8                | versicolor |\n",
            "| 6.7                 | 3                  | 5                   | 1.7                | versicolor |\n",
            "| 5.4                 | 3                  | 4.5                 | 1.5                | versicolor |\n",
            "| 6                   | 3.4                | 4.5                 | 1.6                | versicolor |\n",
            "| 6.7                 | 3.1                | 4.7                 | 1.5                | versicolor |\n",
            "\n",
            "--- 필터링된 데이터의 종류별 개수 ---\n",
            "종류\n",
            "virginica     29\n",
            "versicolor    10\n",
            "Name: count, dtype: int64\n",
            "\n",
            "이 조건에 해당하는 데이터는 주로 'virginica' 종류인 것으로 보입니다.\n"
          ]
        }
      ]
    },
    {
      "cell_type": "code",
      "source": [],
      "metadata": {
        "id": "uXeXRcciEKKz"
      },
      "execution_count": null,
      "outputs": []
    },
    {
      "source": [
        "# 데이터를 다루기 위한 pandas 라이브러리 불러오기\n",
        "import pandas\n",
        "\n",
        "# 그래프를 그리기 위한 matplotlib.pyplot 라이브러리 불러오기\n",
        "# 보통 plt라는 별명으로 사용합니다.\n",
        "import matplotlib.pyplot as plt\n",
        "\n",
        "# 붓꽃 데이터를 가져오기 위한 scikit-learn 라이브러리 불러오기\n",
        "# 만약 이 라이브러리가 설치되어 있지 않다면 아래 명령어를 실행해주세요.\n",
        "# !pip install scikit-learn\n",
        "from sklearn.datasets import load_iris\n",
        "\n",
        "# scikit-learn에서 붓꽃 데이터 불러오기\n",
        "붓꽃데이터_원래형태 = load_iris()\n",
        "\n",
        "# 불러온 붓꽃 데이터를 pandas 데이터프레임 형태로 만들기\n",
        "붓꽃_df = pandas.DataFrame(data=붓꽃데이터_원래형태.data, columns=붓꽃데이터_원래형태.feature_names)\n",
        "\n",
        "# 붓꽃의 종류 정보('species')를 데이터프레임에 추가하기\n",
        "붓꽃_df['종류'] = 붓꽃데이터_원래형태.target\n",
        "붓꽃_df['종류'] = 붓꽃_df['종류'].map(lambda x: 붓꽃데이터_원래형태.target_names[x])\n",
        "\n",
        "#-----------------------------------------------------------\n",
        "# 새로운 문제: 데이터 순위 매기기 (예: 꽃잎 길이 기준)\n",
        "\n",
        "# 'petal length (cm)' (꽃잎 길이) 기준으로 데이터를 내림차순 정렬합니다.\n",
        "# ascending=False는 큰 값부터 작은 값 순서로 정렬하라는 뜻입니다.\n",
        "정렬된_데이터 = 붓꽃_df.sort_values(by='petal length (cm)', ascending=False)\n",
        "\n",
        "# 정렬된 데이터의 처음 10개 (Top 10)만 선택합니다.\n",
        "top_10_데이터 = 정렬된_데이터.head(10)\n",
        "\n",
        "print(\"--- 꽃잎 길이 기준 Top 10 데이터 (처음 10개 행) ---\")\n",
        "# 인덱스는 정렬 후 원래 순서가 뒤섞이므로 False로 설정\n",
        "print(top_10_데이터.to_markdown(index=False, numalign=\"left\", stralign=\"left\")) # tabulate 필요\n",
        "\n",
        "# Top 10 데이터에 포함된 붓꽃 종류별 개수를 셉니다.\n",
        "top_10_종류별_개수 = top_10_데이터['종류'].value_counts()\n",
        "\n",
        "print(\"\\n--- Top 10 데이터의 종류별 개수 ---\")\n",
        "print(top_10_종류별_개수)\n",
        "\n",
        "# Top 10에 가장 많이 포함된 종류와 가장 적게 포함된 종류를 찾습니다.\n",
        "# idxmax()는 개수가 가장 많은 종류 이름을 반환합니다.\n",
        "가장_많은_종류_top10 = top_10_종류별_개수.idxmax()\n",
        "\n",
        "# idxmin()는 개수가 가장 적은 종류 이름을 반환합니다.\n",
        "# 만약 value_counts() 결과에 없는 종류가 있다면 (개수 0), idxmin()은 작동하지 않을 수 있습니다.\n",
        "# 여기서는 Top 10에 포함된 종류 중에서 가장 적게 포함된 종류를 찾습니다.\n",
        "# 만약 모든 종류가 1개 이상 있다면 idxmin() 사용 가능.\n",
        "# 만약 특정 종류가 하나도 없다면 (value_counts 결과에 아예 없으면), 해당 종류는 '가장 적게 포함된 종류'로 명확히 말하기 어렵습니다.\n",
        "# 여기서는 value_counts 결과에 나타난 종류 중에서 가장 개수가 적은 것을 찾겠습니다.\n",
        "if len(top_10_종류별_개수) > 0:\n",
        "    # 다음 두 줄은 if 블록에 속하므로 들여쓰기가 필요합니다.\n",
        "    가장_적은_종류_top10 = top_10_종류별_개수.idxmin()\n",
        "    print(f\"\\n꽃잎 길이 기준 Top 10에 가장 많이 포함된 종류는 '{가장_많은_종류_top10}' 입니다.\")\n",
        "    print(f\"Top 10에 가장 적게 포함된 종류는 '{가장_적은_종류_top10}' 입니다.\")\n",
        "else:\n",
        "    print(\"\\nTop 10 데이터에 포함된 종류가 없습니다.\")"
      ],
      "cell_type": "code",
      "metadata": {
        "colab": {
          "base_uri": "https://localhost:8080/"
        },
        "id": "dhSTUeGHEfc7",
        "outputId": "05773a59-8a15-4d44-aeac-7a239e061ac8"
      },
      "execution_count": 28,
      "outputs": [
        {
          "output_type": "stream",
          "name": "stdout",
          "text": [
            "--- 꽃잎 길이 기준 Top 10 데이터 (처음 10개 행) ---\n",
            "| sepal length (cm)   | sepal width (cm)   | petal length (cm)   | petal width (cm)   | 종류      |\n",
            "|:--------------------|:-------------------|:--------------------|:-------------------|:----------|\n",
            "| 7.7                 | 2.6                | 6.9                 | 2.3                | virginica |\n",
            "| 7.7                 | 3.8                | 6.7                 | 2.2                | virginica |\n",
            "| 7.7                 | 2.8                | 6.7                 | 2                  | virginica |\n",
            "| 7.6                 | 3                  | 6.6                 | 2.1                | virginica |\n",
            "| 7.9                 | 3.8                | 6.4                 | 2                  | virginica |\n",
            "| 7.3                 | 2.9                | 6.3                 | 1.8                | virginica |\n",
            "| 7.4                 | 2.8                | 6.1                 | 1.9                | virginica |\n",
            "| 7.2                 | 3.6                | 6.1                 | 2.5                | virginica |\n",
            "| 7.7                 | 3                  | 6.1                 | 2.3                | virginica |\n",
            "| 6.3                 | 3.3                | 6                   | 2.5                | virginica |\n",
            "\n",
            "--- Top 10 데이터의 종류별 개수 ---\n",
            "종류\n",
            "virginica    10\n",
            "Name: count, dtype: int64\n",
            "\n",
            "꽃잎 길이 기준 Top 10에 가장 많이 포함된 종류는 'virginica' 입니다.\n",
            "Top 10에 가장 적게 포함된 종류는 'virginica' 입니다.\n"
          ]
        }
      ]
    }
  ]
}